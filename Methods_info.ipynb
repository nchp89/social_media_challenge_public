{
 "cells": [
  {
   "cell_type": "code",
   "execution_count": 1,
   "id": "86d3ac62-e236-4399-ae4e-95c23bd70b6f",
   "metadata": {},
   "outputs": [],
   "source": [
    "import pandas as pd\n",
    "import os"
   ]
  },
  {
   "cell_type": "code",
   "execution_count": 2,
   "id": "1b00816a-da32-474d-8de5-71e43d83594e",
   "metadata": {},
   "outputs": [],
   "source": [
    "df = pd.read_excel(os.path.join(\"..\",\"Data\",\"SMC_DATA_clean.xlsx\"))"
   ]
  },
  {
   "cell_type": "markdown",
   "id": "58a34100-dca9-4181-9c60-9764e1ba8cd4",
   "metadata": {},
   "source": [
    "### Number of participants"
   ]
  },
  {
   "cell_type": "code",
   "execution_count": 4,
   "id": "59389edc-3e49-4cd6-8e7f-86981f5a33e2",
   "metadata": {},
   "outputs": [
    {
     "data": {
      "text/plain": [
       "576"
      ]
     },
     "execution_count": 4,
     "metadata": {},
     "output_type": "execute_result"
    }
   ],
   "source": [
    "len(df['ParticipantID'].unique())"
   ]
  },
  {
   "cell_type": "code",
   "execution_count": 29,
   "id": "20449dbd-4f1b-4892-9dac-b9c3d61e3cb7",
   "metadata": {},
   "outputs": [
    {
     "data": {
      "text/html": [
       "<div>\n",
       "<style scoped>\n",
       "    .dataframe tbody tr th:only-of-type {\n",
       "        vertical-align: middle;\n",
       "    }\n",
       "\n",
       "    .dataframe tbody tr th {\n",
       "        vertical-align: top;\n",
       "    }\n",
       "\n",
       "    .dataframe thead th {\n",
       "        text-align: right;\n",
       "    }\n",
       "</style>\n",
       "<table border=\"1\" class=\"dataframe\">\n",
       "  <thead>\n",
       "    <tr style=\"text-align: right;\">\n",
       "      <th></th>\n",
       "      <th>ParticipantID</th>\n",
       "    </tr>\n",
       "    <tr>\n",
       "      <th>SEMESTER</th>\n",
       "      <th></th>\n",
       "    </tr>\n",
       "  </thead>\n",
       "  <tbody>\n",
       "    <tr>\n",
       "      <th>Fall 2020</th>\n",
       "      <td>368</td>\n",
       "    </tr>\n",
       "    <tr>\n",
       "      <th>Fall 2021</th>\n",
       "      <td>421</td>\n",
       "    </tr>\n",
       "    <tr>\n",
       "      <th>Fall 2022</th>\n",
       "      <td>452</td>\n",
       "    </tr>\n",
       "    <tr>\n",
       "      <th>Spring 2021</th>\n",
       "      <td>482</td>\n",
       "    </tr>\n",
       "    <tr>\n",
       "      <th>Spring 2022</th>\n",
       "      <td>483</td>\n",
       "    </tr>\n",
       "    <tr>\n",
       "      <th>Spring 2023</th>\n",
       "      <td>401</td>\n",
       "    </tr>\n",
       "  </tbody>\n",
       "</table>\n",
       "</div>"
      ],
      "text/plain": [
       "             ParticipantID\n",
       "SEMESTER                  \n",
       "Fall 2020              368\n",
       "Fall 2021              421\n",
       "Fall 2022              452\n",
       "Spring 2021            482\n",
       "Spring 2022            483\n",
       "Spring 2023            401"
      ]
     },
     "execution_count": 29,
     "metadata": {},
     "output_type": "execute_result"
    }
   ],
   "source": [
    "df[['SEMESTER','ParticipantID']].groupby('SEMESTER').count()"
   ]
  },
  {
   "cell_type": "code",
   "execution_count": 30,
   "id": "03f358bf-0cb2-4e04-908e-916ae3fddb70",
   "metadata": {},
   "outputs": [
    {
     "data": {
      "text/html": [
       "<div>\n",
       "<style scoped>\n",
       "    .dataframe tbody tr th:only-of-type {\n",
       "        vertical-align: middle;\n",
       "    }\n",
       "\n",
       "    .dataframe tbody tr th {\n",
       "        vertical-align: top;\n",
       "    }\n",
       "\n",
       "    .dataframe thead th {\n",
       "        text-align: right;\n",
       "    }\n",
       "</style>\n",
       "<table border=\"1\" class=\"dataframe\">\n",
       "  <thead>\n",
       "    <tr style=\"text-align: right;\">\n",
       "      <th></th>\n",
       "      <th>ParticipantID</th>\n",
       "    </tr>\n",
       "    <tr>\n",
       "      <th>SEMESTER</th>\n",
       "      <th></th>\n",
       "    </tr>\n",
       "  </thead>\n",
       "  <tbody>\n",
       "    <tr>\n",
       "      <th>Fall 2020</th>\n",
       "      <td>78</td>\n",
       "    </tr>\n",
       "    <tr>\n",
       "      <th>Fall 2021</th>\n",
       "      <td>88</td>\n",
       "    </tr>\n",
       "    <tr>\n",
       "      <th>Fall 2022</th>\n",
       "      <td>99</td>\n",
       "    </tr>\n",
       "    <tr>\n",
       "      <th>Spring 2021</th>\n",
       "      <td>102</td>\n",
       "    </tr>\n",
       "    <tr>\n",
       "      <th>Spring 2022</th>\n",
       "      <td>103</td>\n",
       "    </tr>\n",
       "    <tr>\n",
       "      <th>Spring 2023</th>\n",
       "      <td>106</td>\n",
       "    </tr>\n",
       "  </tbody>\n",
       "</table>\n",
       "</div>"
      ],
      "text/plain": [
       "             ParticipantID\n",
       "SEMESTER                  \n",
       "Fall 2020               78\n",
       "Fall 2021               88\n",
       "Fall 2022               99\n",
       "Spring 2021            102\n",
       "Spring 2022            103\n",
       "Spring 2023            106"
      ]
     },
     "execution_count": 30,
     "metadata": {},
     "output_type": "execute_result"
    }
   ],
   "source": [
    "df.groupby('SEMESTER')[['ParticipantID']].nunique()"
   ]
  },
  {
   "cell_type": "markdown",
   "id": "c4767f4e-6858-4308-9354-4a8677f3a447",
   "metadata": {},
   "source": [
    "### Number of records"
   ]
  },
  {
   "cell_type": "code",
   "execution_count": 5,
   "id": "b219de07-597c-463b-b17b-4f99b24025e8",
   "metadata": {},
   "outputs": [
    {
     "data": {
      "text/plain": [
       "2607"
      ]
     },
     "execution_count": 5,
     "metadata": {},
     "output_type": "execute_result"
    }
   ],
   "source": [
    "len(df)"
   ]
  },
  {
   "cell_type": "code",
   "execution_count": 9,
   "id": "9d20f3a3-d6e9-429c-b525-ee1b670ce93f",
   "metadata": {},
   "outputs": [],
   "source": [
    "survey_cols = [c for c in df.columns if c.endswith('total')]"
   ]
  },
  {
   "cell_type": "code",
   "execution_count": 31,
   "id": "61a4ec1d-ac02-420b-af88-86fed881f52a",
   "metadata": {},
   "outputs": [
    {
     "name": "stdout",
     "output_type": "stream",
     "text": [
      "BSMAS_total    2606\n",
      "dtype: int64\n",
      "PSS_total    1746\n",
      "dtype: int64\n",
      "ADTS_ANX_total    2206\n",
      "dtype: int64\n",
      "ADTS_P_total    2206\n",
      "dtype: int64\n",
      "ADTS_N_total    2206\n",
      "dtype: int64\n",
      "RSES_total    850\n",
      "dtype: int64\n",
      "SWLS_total    850\n",
      "dtype: int64\n",
      "PSOC_total    850\n",
      "dtype: int64\n",
      "LONE_total    850\n",
      "dtype: int64\n",
      "SoPA_total    401\n",
      "dtype: int64\n",
      "SoNA_total    401\n",
      "dtype: int64\n",
      "ChQ_total    401\n",
      "dtype: int64\n"
     ]
    }
   ],
   "source": [
    "for col in survey_cols:\n",
    "    df_tmp = df.copy()\n",
    "    df_tmp = df_tmp[df_tmp[col] > 0]\n",
    "    print(df_tmp[[col]].count())"
   ]
  },
  {
   "cell_type": "code",
   "execution_count": 36,
   "id": "5e7eb16a-c3fd-4d81-bf63-28ab2dfdc7aa",
   "metadata": {},
   "outputs": [
    {
     "name": "stdout",
     "output_type": "stream",
     "text": [
      " BSMAS_total\n",
      "['Fall 2020' 'Fall 2021' 'Fall 2022' 'Spring 2021' 'Spring 2022'\n",
      " 'Spring 2023']\n",
      "\n",
      " PSS_total\n",
      "['Fall 2020' 'Fall 2021' 'Spring 2021' 'Spring 2022']\n",
      "\n",
      " ADTS_ANX_total\n",
      "['Fall 2020' 'Fall 2021' 'Fall 2022' 'Spring 2021' 'Spring 2022']\n",
      "\n",
      " ADTS_P_total\n",
      "['Fall 2020' 'Fall 2021' 'Fall 2022' 'Spring 2021' 'Spring 2022']\n",
      "\n",
      " ADTS_N_total\n",
      "['Fall 2020' 'Fall 2021' 'Fall 2022' 'Spring 2021' 'Spring 2022']\n",
      "\n",
      " RSES_total\n",
      "['Fall 2020' 'Spring 2021']\n",
      "\n",
      " SWLS_total\n",
      "['Fall 2020' 'Spring 2021']\n",
      "\n",
      " PSOC_total\n",
      "['Fall 2020' 'Spring 2021']\n",
      "\n",
      " LONE_total\n",
      "['Fall 2020' 'Spring 2021']\n",
      "\n",
      " SoPA_total\n",
      "['Spring 2023']\n",
      "\n",
      " SoNA_total\n",
      "['Spring 2023']\n",
      "\n",
      " ChQ_total\n",
      "['Spring 2023']\n",
      "\n"
     ]
    }
   ],
   "source": [
    "for col in survey_cols:\n",
    "    df_tmp = df.copy()\n",
    "    df_tmp = df_tmp[~df_tmp[col].isnull() & (df_tmp[col] > 0)]\n",
    "    print(\" \" + col)\n",
    "    print(df_tmp['SEMESTER'].unique())\n",
    "    print()"
   ]
  },
  {
   "cell_type": "markdown",
   "id": "43b93d10-6ce1-41c1-a238-6fa38fc223a1",
   "metadata": {},
   "source": [
    "### Demographics"
   ]
  },
  {
   "cell_type": "code",
   "execution_count": 20,
   "id": "6752f9ee-dbac-40da-92d6-5016e84ce30b",
   "metadata": {},
   "outputs": [
    {
     "data": {
      "text/plain": [
       "female                                                     291\n",
       "male                                                       193\n",
       "nonbinary                                                   14\n",
       "Genderfluid                                                  1\n",
       "Prefer not to say                                            1\n",
       "any pronouns                                                 1\n",
       "She/They is preferred. Somewhere between NB and Female.      1\n",
       "gender fluid, mostly female presenting                       1\n",
       "prefer not to say                                            1\n",
       "Gender Queer                                                 1\n",
       "Transfeminine                                                1\n",
       "Name: DEMO_gender, dtype: int64"
      ]
     },
     "execution_count": 20,
     "metadata": {},
     "output_type": "execute_result"
    }
   ],
   "source": [
    "df['DEMO_gender'].value_counts()"
   ]
  },
  {
   "cell_type": "code",
   "execution_count": null,
   "id": "2ff97615-7a19-46a6-916a-919dca3664d9",
   "metadata": {},
   "outputs": [],
   "source": []
  }
 ],
 "metadata": {
  "kernelspec": {
   "display_name": "Python 3 (ipykernel)",
   "language": "python",
   "name": "python3"
  },
  "language_info": {
   "codemirror_mode": {
    "name": "ipython",
    "version": 3
   },
   "file_extension": ".py",
   "mimetype": "text/x-python",
   "name": "python",
   "nbconvert_exporter": "python",
   "pygments_lexer": "ipython3",
   "version": "3.9.13"
  }
 },
 "nbformat": 4,
 "nbformat_minor": 5
}

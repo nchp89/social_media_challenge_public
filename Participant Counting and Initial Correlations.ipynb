{
 "cells": [
  {
   "cell_type": "code",
   "execution_count": 1,
   "id": "13a4237a",
   "metadata": {},
   "outputs": [],
   "source": [
    "import pandas as pd\n",
    "import numpy as np\n",
    "import matplotlib.pyplot as plt\n",
    "\n",
    "import os\n",
    "\n",
    "from smc_utils import drop_identifiers"
   ]
  },
  {
   "cell_type": "code",
   "execution_count": 2,
   "id": "637a52e6",
   "metadata": {},
   "outputs": [],
   "source": [
    "%matplotlib inline"
   ]
  },
  {
   "cell_type": "code",
   "execution_count": 2,
   "id": "ce5cd199",
   "metadata": {},
   "outputs": [
    {
     "data": {
      "text/html": [
       "<div>\n",
       "<style scoped>\n",
       "    .dataframe tbody tr th:only-of-type {\n",
       "        vertical-align: middle;\n",
       "    }\n",
       "\n",
       "    .dataframe tbody tr th {\n",
       "        vertical-align: top;\n",
       "    }\n",
       "\n",
       "    .dataframe thead th {\n",
       "        text-align: right;\n",
       "    }\n",
       "</style>\n",
       "<table border=\"1\" class=\"dataframe\">\n",
       "  <thead>\n",
       "    <tr style=\"text-align: right;\">\n",
       "      <th></th>\n",
       "      <th>UniqueID</th>\n",
       "      <th>ParticipantID</th>\n",
       "      <th>ParticipantRecordCount</th>\n",
       "      <th>SEMESTER</th>\n",
       "      <th>SURVEY</th>\n",
       "      <th>Timestamp</th>\n",
       "      <th>STATE_behaviors</th>\n",
       "      <th>STATE_goals</th>\n",
       "      <th>COVID_residence</th>\n",
       "      <th>COVID_social_distancing</th>\n",
       "      <th>...</th>\n",
       "      <th>ADTS_ANX_total_diff</th>\n",
       "      <th>ADTS_P_total_diff</th>\n",
       "      <th>ADTS_N_total_diff</th>\n",
       "      <th>RSES_total_diff</th>\n",
       "      <th>SWLS_total_diff</th>\n",
       "      <th>PSOC_total_diff</th>\n",
       "      <th>LONE_total_diff</th>\n",
       "      <th>SoPA_total_diff</th>\n",
       "      <th>SoNA_total_diff</th>\n",
       "      <th>ChQ_total_diff</th>\n",
       "    </tr>\n",
       "  </thead>\n",
       "  <tbody>\n",
       "    <tr>\n",
       "      <th>0</th>\n",
       "      <td>a9dbc45ece05459c91b7073f94165d9d</td>\n",
       "      <td>5710075738</td>\n",
       "      <td>5</td>\n",
       "      <td>Fall 2020</td>\n",
       "      <td>0</td>\n",
       "      <td>2020-09-20 17:17:09.790</td>\n",
       "      <td>I generally use Reddit, Snapchat, Twitter, Ins...</td>\n",
       "      <td>I’d like to see myself distance a bit from soc...</td>\n",
       "      <td>In Boulder</td>\n",
       "      <td>4.0</td>\n",
       "      <td>...</td>\n",
       "      <td>NaN</td>\n",
       "      <td>NaN</td>\n",
       "      <td>NaN</td>\n",
       "      <td>NaN</td>\n",
       "      <td>NaN</td>\n",
       "      <td>NaN</td>\n",
       "      <td>NaN</td>\n",
       "      <td>NaN</td>\n",
       "      <td>NaN</td>\n",
       "      <td>NaN</td>\n",
       "    </tr>\n",
       "    <tr>\n",
       "      <th>1</th>\n",
       "      <td>e25bccd85f6e4450b4d7482ed2368fa0</td>\n",
       "      <td>5710075738</td>\n",
       "      <td>5</td>\n",
       "      <td>Fall 2020</td>\n",
       "      <td>1</td>\n",
       "      <td>2020-09-26 21:36:08.963</td>\n",
       "      <td>NaN</td>\n",
       "      <td>NaN</td>\n",
       "      <td>NaN</td>\n",
       "      <td>NaN</td>\n",
       "      <td>...</td>\n",
       "      <td>3.0</td>\n",
       "      <td>0.0</td>\n",
       "      <td>-3.0</td>\n",
       "      <td>2.0</td>\n",
       "      <td>1.0</td>\n",
       "      <td>3.0</td>\n",
       "      <td>0.0</td>\n",
       "      <td>NaN</td>\n",
       "      <td>NaN</td>\n",
       "      <td>NaN</td>\n",
       "    </tr>\n",
       "    <tr>\n",
       "      <th>2</th>\n",
       "      <td>e58dce6b780b4e2b89f850f4b8a91352</td>\n",
       "      <td>5710075738</td>\n",
       "      <td>5</td>\n",
       "      <td>Fall 2020</td>\n",
       "      <td>2</td>\n",
       "      <td>2020-10-04 21:12:24.774</td>\n",
       "      <td>NaN</td>\n",
       "      <td>NaN</td>\n",
       "      <td>NaN</td>\n",
       "      <td>NaN</td>\n",
       "      <td>...</td>\n",
       "      <td>-2.0</td>\n",
       "      <td>-3.0</td>\n",
       "      <td>1.0</td>\n",
       "      <td>9.0</td>\n",
       "      <td>7.0</td>\n",
       "      <td>-1.0</td>\n",
       "      <td>-2.0</td>\n",
       "      <td>NaN</td>\n",
       "      <td>NaN</td>\n",
       "      <td>NaN</td>\n",
       "    </tr>\n",
       "    <tr>\n",
       "      <th>3</th>\n",
       "      <td>34c77a8cc9db4cf4b3e05cfbe3314443</td>\n",
       "      <td>5710075738</td>\n",
       "      <td>5</td>\n",
       "      <td>Fall 2020</td>\n",
       "      <td>3</td>\n",
       "      <td>2020-10-12 10:23:31.748</td>\n",
       "      <td>NaN</td>\n",
       "      <td>NaN</td>\n",
       "      <td>NaN</td>\n",
       "      <td>NaN</td>\n",
       "      <td>...</td>\n",
       "      <td>-3.0</td>\n",
       "      <td>2.0</td>\n",
       "      <td>2.0</td>\n",
       "      <td>-2.0</td>\n",
       "      <td>-1.0</td>\n",
       "      <td>5.0</td>\n",
       "      <td>1.0</td>\n",
       "      <td>NaN</td>\n",
       "      <td>NaN</td>\n",
       "      <td>NaN</td>\n",
       "    </tr>\n",
       "    <tr>\n",
       "      <th>4</th>\n",
       "      <td>1f92e68056a94c0584ac911c9b264766</td>\n",
       "      <td>5710075738</td>\n",
       "      <td>5</td>\n",
       "      <td>Fall 2020</td>\n",
       "      <td>4</td>\n",
       "      <td>2020-10-25 23:49:54.287</td>\n",
       "      <td>NaN</td>\n",
       "      <td>NaN</td>\n",
       "      <td>NaN</td>\n",
       "      <td>NaN</td>\n",
       "      <td>...</td>\n",
       "      <td>-1.0</td>\n",
       "      <td>0.0</td>\n",
       "      <td>0.0</td>\n",
       "      <td>4.0</td>\n",
       "      <td>2.0</td>\n",
       "      <td>-1.0</td>\n",
       "      <td>0.0</td>\n",
       "      <td>NaN</td>\n",
       "      <td>NaN</td>\n",
       "      <td>NaN</td>\n",
       "    </tr>\n",
       "  </tbody>\n",
       "</table>\n",
       "<p>5 rows × 127 columns</p>\n",
       "</div>"
      ],
      "text/plain": [
       "                           UniqueID  ParticipantID  ParticipantRecordCount  \\\n",
       "0  a9dbc45ece05459c91b7073f94165d9d     5710075738                       5   \n",
       "1  e25bccd85f6e4450b4d7482ed2368fa0     5710075738                       5   \n",
       "2  e58dce6b780b4e2b89f850f4b8a91352     5710075738                       5   \n",
       "3  34c77a8cc9db4cf4b3e05cfbe3314443     5710075738                       5   \n",
       "4  1f92e68056a94c0584ac911c9b264766     5710075738                       5   \n",
       "\n",
       "    SEMESTER  SURVEY               Timestamp  \\\n",
       "0  Fall 2020       0 2020-09-20 17:17:09.790   \n",
       "1  Fall 2020       1 2020-09-26 21:36:08.963   \n",
       "2  Fall 2020       2 2020-10-04 21:12:24.774   \n",
       "3  Fall 2020       3 2020-10-12 10:23:31.748   \n",
       "4  Fall 2020       4 2020-10-25 23:49:54.287   \n",
       "\n",
       "                                     STATE_behaviors  \\\n",
       "0  I generally use Reddit, Snapchat, Twitter, Ins...   \n",
       "1                                                NaN   \n",
       "2                                                NaN   \n",
       "3                                                NaN   \n",
       "4                                                NaN   \n",
       "\n",
       "                                         STATE_goals COVID_residence  \\\n",
       "0  I’d like to see myself distance a bit from soc...      In Boulder   \n",
       "1                                                NaN             NaN   \n",
       "2                                                NaN             NaN   \n",
       "3                                                NaN             NaN   \n",
       "4                                                NaN             NaN   \n",
       "\n",
       "   COVID_social_distancing  ...  ADTS_ANX_total_diff  ADTS_P_total_diff  \\\n",
       "0                      4.0  ...                  NaN                NaN   \n",
       "1                      NaN  ...                  3.0                0.0   \n",
       "2                      NaN  ...                 -2.0               -3.0   \n",
       "3                      NaN  ...                 -3.0                2.0   \n",
       "4                      NaN  ...                 -1.0                0.0   \n",
       "\n",
       "   ADTS_N_total_diff RSES_total_diff  SWLS_total_diff PSOC_total_diff  \\\n",
       "0                NaN             NaN              NaN             NaN   \n",
       "1               -3.0             2.0              1.0             3.0   \n",
       "2                1.0             9.0              7.0            -1.0   \n",
       "3                2.0            -2.0             -1.0             5.0   \n",
       "4                0.0             4.0              2.0            -1.0   \n",
       "\n",
       "   LONE_total_diff SoPA_total_diff  SoNA_total_diff ChQ_total_diff  \n",
       "0              NaN             NaN              NaN            NaN  \n",
       "1              0.0             NaN              NaN            NaN  \n",
       "2             -2.0             NaN              NaN            NaN  \n",
       "3              1.0             NaN              NaN            NaN  \n",
       "4              0.0             NaN              NaN            NaN  \n",
       "\n",
       "[5 rows x 127 columns]"
      ]
     },
     "execution_count": 2,
     "metadata": {},
     "output_type": "execute_result"
    }
   ],
   "source": [
    "data_dir = os.path.join(\"..\", \"Data\")\n",
    "df = pd.read_excel(os.path.join(data_dir, \"SMC_DATA_clean.xlsx\"))\n",
    "df = drop_identifiers(df)\n",
    "df.head()"
   ]
  },
  {
   "cell_type": "code",
   "execution_count": 3,
   "id": "20b67999-20b3-48f9-a1b3-b81d79d23868",
   "metadata": {},
   "outputs": [
    {
     "data": {
      "text/plain": [
       "2607"
      ]
     },
     "execution_count": 3,
     "metadata": {},
     "output_type": "execute_result"
    }
   ],
   "source": [
    "len(df)"
   ]
  },
  {
   "cell_type": "markdown",
   "id": "cebf3f0f",
   "metadata": {},
   "source": [
    "### Participant Count"
   ]
  },
  {
   "cell_type": "code",
   "execution_count": 4,
   "id": "62818dd3",
   "metadata": {},
   "outputs": [
    {
     "data": {
      "text/plain": [
       "5    413\n",
       "4     95\n",
       "3     40\n",
       "1     14\n",
       "2     14\n",
       "Name: ParticipantRecordCount, dtype: int64"
      ]
     },
     "execution_count": 4,
     "metadata": {},
     "output_type": "execute_result"
    }
   ],
   "source": [
    "df.groupby('ParticipantID')['ParticipantRecordCount'].max().value_counts()"
   ]
  },
  {
   "cell_type": "code",
   "execution_count": 5,
   "id": "a41dc9f4",
   "metadata": {},
   "outputs": [
    {
     "data": {
      "image/png": "[encoded data removed]",
      "text/plain": [
       "<Figure size 640x480 with 1 Axes>"
      ]
     },
     "metadata": {},
     "output_type": "display_data"
    }
   ],
   "source": [
    "fig, ax = plt.subplots()\n",
    "data = df.groupby('ParticipantID')['ParticipantRecordCount'].max()\n",
    "\n",
    "bins = [i-0.5 for i in range(1,10)]\n",
    "N, bins, patches = ax.hist(data, edgecolor='white', align='mid', bins=bins)\n",
    "\n",
    "for i in range(0,3):\n",
    "    patches[i].set_facecolor('r')\n",
    "patches[3].set_facecolor('y')\n",
    "for i in range(4,6):    \n",
    "    patches[i].set_facecolor('g')\n",
    "for i in range(6, len(patches)):\n",
    "    patches[i].set_facecolor('black')\n",
    "\n",
    "plt.bar_label(patches, fontsize=10, color='navy')\n",
    "plt.title(\"Number of Surveys Per Participant (N={})\".format(len(data)))\n",
    "plt.xlabel(\"Survey Count\")\n",
    "plt.ylabel(\"Participant Count\")\n",
    "plt.show()"
   ]
  },
  {
   "cell_type": "markdown",
   "id": "9bc74271",
   "metadata": {},
   "source": [
    "### Initial Correlations"
   ]
  },
  {
   "cell_type": "code",
   "execution_count": 8,
   "id": "f5e39cca",
   "metadata": {},
   "outputs": [],
   "source": [
    "def calculate_rough_word_count(x):\n",
    "    return len(x.split())\n",
    "\n",
    "df_initial = df[df['SURVEY'] == 0][['ParticipantID','STATE_behaviors']]\n",
    "\n",
    "df_initial['STATE_behaviors_wc'] = df_initial['STATE_behaviors'].apply(calculate_rough_word_count)"
   ]
  },
  {
   "cell_type": "code",
   "execution_count": 9,
   "id": "7b376fec",
   "metadata": {},
   "outputs": [
    {
     "data": {
      "text/html": [
       "<div>\n",
       "<style scoped>\n",
       "    .dataframe tbody tr th:only-of-type {\n",
       "        vertical-align: middle;\n",
       "    }\n",
       "\n",
       "    .dataframe tbody tr th {\n",
       "        vertical-align: top;\n",
       "    }\n",
       "\n",
       "    .dataframe thead th {\n",
       "        text-align: right;\n",
       "    }\n",
       "</style>\n",
       "<table border=\"1\" class=\"dataframe\">\n",
       "  <thead>\n",
       "    <tr style=\"text-align: right;\">\n",
       "      <th></th>\n",
       "      <th>ParticipantID</th>\n",
       "      <th>STATE_behaviors</th>\n",
       "      <th>STATE_behaviors_wc</th>\n",
       "    </tr>\n",
       "  </thead>\n",
       "  <tbody>\n",
       "    <tr>\n",
       "      <th>0</th>\n",
       "      <td>5710075738</td>\n",
       "      <td>I generally use Reddit, Snapchat, Twitter, Ins...</td>\n",
       "      <td>116</td>\n",
       "    </tr>\n",
       "    <tr>\n",
       "      <th>5</th>\n",
       "      <td>2563157200</td>\n",
       "      <td>Most used platforms:\\n- instagram\\n- snapchat\\...</td>\n",
       "      <td>121</td>\n",
       "    </tr>\n",
       "    <tr>\n",
       "      <th>10</th>\n",
       "      <td>2122687351</td>\n",
       "      <td>\\n- I probably check each one 5 times a day, d...</td>\n",
       "      <td>143</td>\n",
       "    </tr>\n",
       "    <tr>\n",
       "      <th>15</th>\n",
       "      <td>480385374</td>\n",
       "      <td>I use reddit and occasionally YouTube. I used ...</td>\n",
       "      <td>142</td>\n",
       "    </tr>\n",
       "    <tr>\n",
       "      <th>20</th>\n",
       "      <td>5859634604</td>\n",
       "      <td>I use youtube, amazon video, netflix all for c...</td>\n",
       "      <td>198</td>\n",
       "    </tr>\n",
       "    <tr>\n",
       "      <th>...</th>\n",
       "      <td>...</td>\n",
       "      <td>...</td>\n",
       "      <td>...</td>\n",
       "    </tr>\n",
       "    <tr>\n",
       "      <th>2575</th>\n",
       "      <td>4364018283</td>\n",
       "      <td>I use TikTok for about an hour a day; I connec...</td>\n",
       "      <td>40</td>\n",
       "    </tr>\n",
       "    <tr>\n",
       "      <th>2580</th>\n",
       "      <td>3945155124</td>\n",
       "      <td>I use TikTok and Snapchat the most. Usually I ...</td>\n",
       "      <td>360</td>\n",
       "    </tr>\n",
       "    <tr>\n",
       "      <th>2584</th>\n",
       "      <td>3981192960</td>\n",
       "      <td>I use Instagram, Snapchat, YouTube, and a few ...</td>\n",
       "      <td>29</td>\n",
       "    </tr>\n",
       "    <tr>\n",
       "      <th>2595</th>\n",
       "      <td>712532050</td>\n",
       "      <td>- I use SnapChat and TikTok the most\\n- I use ...</td>\n",
       "      <td>57</td>\n",
       "    </tr>\n",
       "    <tr>\n",
       "      <th>2602</th>\n",
       "      <td>5271017416</td>\n",
       "      <td>-For this analysis I am using my last week's a...</td>\n",
       "      <td>171</td>\n",
       "    </tr>\n",
       "  </tbody>\n",
       "</table>\n",
       "<p>506 rows × 3 columns</p>\n",
       "</div>"
      ],
      "text/plain": [
       "      ParticipantID                                    STATE_behaviors  \\\n",
       "0        5710075738  I generally use Reddit, Snapchat, Twitter, Ins...   \n",
       "5        2563157200  Most used platforms:\\n- instagram\\n- snapchat\\...   \n",
       "10       2122687351  \\n- I probably check each one 5 times a day, d...   \n",
       "15        480385374  I use reddit and occasionally YouTube. I used ...   \n",
       "20       5859634604  I use youtube, amazon video, netflix all for c...   \n",
       "...             ...                                                ...   \n",
       "2575     4364018283  I use TikTok for about an hour a day; I connec...   \n",
       "2580     3945155124  I use TikTok and Snapchat the most. Usually I ...   \n",
       "2584     3981192960  I use Instagram, Snapchat, YouTube, and a few ...   \n",
       "2595      712532050  - I use SnapChat and TikTok the most\\n- I use ...   \n",
       "2602     5271017416  -For this analysis I am using my last week's a...   \n",
       "\n",
       "      STATE_behaviors_wc  \n",
       "0                    116  \n",
       "5                    121  \n",
       "10                   143  \n",
       "15                   142  \n",
       "20                   198  \n",
       "...                  ...  \n",
       "2575                  40  \n",
       "2580                 360  \n",
       "2584                  29  \n",
       "2595                  57  \n",
       "2602                 171  \n",
       "\n",
       "[506 rows x 3 columns]"
      ]
     },
     "execution_count": 9,
     "metadata": {},
     "output_type": "execute_result"
    }
   ],
   "source": [
    "df_initial"
   ]
  },
  {
   "cell_type": "code",
   "execution_count": 10,
   "id": "22a9108f",
   "metadata": {},
   "outputs": [
    {
     "data": {
      "text/plain": [
       "count     506.000000\n",
       "mean      176.612648\n",
       "std       126.118427\n",
       "min         1.000000\n",
       "25%        99.250000\n",
       "50%       148.000000\n",
       "75%       215.500000\n",
       "max      1085.000000\n",
       "Name: STATE_behaviors_wc, dtype: float64"
      ]
     },
     "execution_count": 10,
     "metadata": {},
     "output_type": "execute_result"
    }
   ],
   "source": [
    "df_initial['STATE_behaviors_wc'].describe()"
   ]
  },
  {
   "cell_type": "markdown",
   "id": "c11e5bfc",
   "metadata": {},
   "source": [
    "#### Notes\n",
    "We are considering word count of participants self-described behavior as a proxy variable for \"level of commitment\" to the SMC challenge.\n",
    "\n",
    "Grouping data into quartiles:\n",
    "\n",
    "    STATE_behavior_and_goals word count\n",
    "        25% - 99\n",
    "        50% - 148\n",
    "        75% - 215\n",
    "        IQR = 116"
   ]
  },
  {
   "cell_type": "code",
   "execution_count": 11,
   "id": "1bc76020",
   "metadata": {},
   "outputs": [],
   "source": [
    "df_wc = df_initial[['ParticipantID','STATE_behaviors_wc']]\n",
    "\n",
    "df = df.merge(df_wc, on='ParticipantID', how='left')"
   ]
  },
  {
   "cell_type": "code",
   "execution_count": 12,
   "id": "2fb9ca5e",
   "metadata": {},
   "outputs": [],
   "source": [
    "interest_cols = [c for c in df.columns if c.endswith('_total') or c.endswith('_score') or c.endswith('_wc')]"
   ]
  },
  {
   "cell_type": "markdown",
   "id": "4c8cc6a0",
   "metadata": {},
   "source": [
    "### Correlations across full dataset"
   ]
  },
  {
   "cell_type": "code",
   "execution_count": 13,
   "id": "1e8fc834-f15b-4344-93f0-fc2ac925cbfc",
   "metadata": {},
   "outputs": [
    {
     "data": {
      "text/html": [
       "<div>\n",
       "<style scoped>\n",
       "    .dataframe tbody tr th:only-of-type {\n",
       "        vertical-align: middle;\n",
       "    }\n",
       "\n",
       "    .dataframe tbody tr th {\n",
       "        vertical-align: top;\n",
       "    }\n",
       "\n",
       "    .dataframe thead th {\n",
       "        text-align: right;\n",
       "    }\n",
       "</style>\n",
       "<table border=\"1\" class=\"dataframe\">\n",
       "  <thead>\n",
       "    <tr style=\"text-align: right;\">\n",
       "      <th></th>\n",
       "      <th>WEEKLY_self_assessment_score</th>\n",
       "    </tr>\n",
       "  </thead>\n",
       "  <tbody>\n",
       "    <tr>\n",
       "      <th>BSMAS_total</th>\n",
       "      <td>-0.414837</td>\n",
       "    </tr>\n",
       "    <tr>\n",
       "      <th>PSS_total</th>\n",
       "      <td>-0.267315</td>\n",
       "    </tr>\n",
       "    <tr>\n",
       "      <th>ADTS_ANX_total</th>\n",
       "      <td>-0.197095</td>\n",
       "    </tr>\n",
       "    <tr>\n",
       "      <th>ADTS_P_total</th>\n",
       "      <td>0.003724</td>\n",
       "    </tr>\n",
       "    <tr>\n",
       "      <th>ADTS_N_total</th>\n",
       "      <td>0.014358</td>\n",
       "    </tr>\n",
       "    <tr>\n",
       "      <th>RSES_total</th>\n",
       "      <td>0.022241</td>\n",
       "    </tr>\n",
       "    <tr>\n",
       "      <th>SWLS_total</th>\n",
       "      <td>0.161537</td>\n",
       "    </tr>\n",
       "    <tr>\n",
       "      <th>PSOC_total</th>\n",
       "      <td>0.133929</td>\n",
       "    </tr>\n",
       "    <tr>\n",
       "      <th>LONE_total</th>\n",
       "      <td>-0.072814</td>\n",
       "    </tr>\n",
       "    <tr>\n",
       "      <th>SoPA_total</th>\n",
       "      <td>0.209498</td>\n",
       "    </tr>\n",
       "    <tr>\n",
       "      <th>SoNA_total</th>\n",
       "      <td>-0.149374</td>\n",
       "    </tr>\n",
       "    <tr>\n",
       "      <th>ChQ_total</th>\n",
       "      <td>-0.101575</td>\n",
       "    </tr>\n",
       "    <tr>\n",
       "      <th>WEEKLY_self_assessment_score</th>\n",
       "      <td>1.000000</td>\n",
       "    </tr>\n",
       "    <tr>\n",
       "      <th>STATE_behaviors_wc</th>\n",
       "      <td>-0.066576</td>\n",
       "    </tr>\n",
       "  </tbody>\n",
       "</table>\n",
       "</div>"
      ],
      "text/plain": [
       "                              WEEKLY_self_assessment_score\n",
       "BSMAS_total                                      -0.414837\n",
       "PSS_total                                        -0.267315\n",
       "ADTS_ANX_total                                   -0.197095\n",
       "ADTS_P_total                                      0.003724\n",
       "ADTS_N_total                                      0.014358\n",
       "RSES_total                                        0.022241\n",
       "SWLS_total                                        0.161537\n",
       "PSOC_total                                        0.133929\n",
       "LONE_total                                       -0.072814\n",
       "SoPA_total                                        0.209498\n",
       "SoNA_total                                       -0.149374\n",
       "ChQ_total                                        -0.101575\n",
       "WEEKLY_self_assessment_score                      1.000000\n",
       "STATE_behaviors_wc                               -0.066576"
      ]
     },
     "execution_count": 13,
     "metadata": {},
     "output_type": "execute_result"
    }
   ],
   "source": [
    "df[interest_cols].corr()[['WEEKLY_self_assessment_score']]"
   ]
  },
  {
   "cell_type": "code",
   "execution_count": 14,
   "id": "7f40faba",
   "metadata": {},
   "outputs": [
    {
     "data": {
      "text/html": [
       "<div>\n",
       "<style scoped>\n",
       "    .dataframe tbody tr th:only-of-type {\n",
       "        vertical-align: middle;\n",
       "    }\n",
       "\n",
       "    .dataframe tbody tr th {\n",
       "        vertical-align: top;\n",
       "    }\n",
       "\n",
       "    .dataframe thead th {\n",
       "        text-align: right;\n",
       "    }\n",
       "</style>\n",
       "<table border=\"1\" class=\"dataframe\">\n",
       "  <thead>\n",
       "    <tr style=\"text-align: right;\">\n",
       "      <th></th>\n",
       "      <th>BSMAS_total</th>\n",
       "      <th>PSS_total</th>\n",
       "      <th>ADTS_ANX_total</th>\n",
       "      <th>ADTS_P_total</th>\n",
       "      <th>ADTS_N_total</th>\n",
       "      <th>RSES_total</th>\n",
       "      <th>SWLS_total</th>\n",
       "      <th>PSOC_total</th>\n",
       "      <th>LONE_total</th>\n",
       "      <th>SoPA_total</th>\n",
       "      <th>SoNA_total</th>\n",
       "      <th>ChQ_total</th>\n",
       "      <th>WEEKLY_self_assessment_score</th>\n",
       "      <th>STATE_behaviors_wc</th>\n",
       "    </tr>\n",
       "  </thead>\n",
       "  <tbody>\n",
       "    <tr>\n",
       "      <th>STATE_behaviors_wc</th>\n",
       "      <td>0.015436</td>\n",
       "      <td>0.0102</td>\n",
       "      <td>0.074766</td>\n",
       "      <td>0.103335</td>\n",
       "      <td>-0.021953</td>\n",
       "      <td>0.097827</td>\n",
       "      <td>0.055502</td>\n",
       "      <td>0.088756</td>\n",
       "      <td>-0.055982</td>\n",
       "      <td>-0.062566</td>\n",
       "      <td>-0.023338</td>\n",
       "      <td>0.116217</td>\n",
       "      <td>-0.066576</td>\n",
       "      <td>1.0</td>\n",
       "    </tr>\n",
       "  </tbody>\n",
       "</table>\n",
       "</div>"
      ],
      "text/plain": [
       "                    BSMAS_total  PSS_total  ADTS_ANX_total  ADTS_P_total  \\\n",
       "STATE_behaviors_wc     0.015436     0.0102        0.074766      0.103335   \n",
       "\n",
       "                    ADTS_N_total  RSES_total  SWLS_total  PSOC_total  \\\n",
       "STATE_behaviors_wc     -0.021953    0.097827    0.055502    0.088756   \n",
       "\n",
       "                    LONE_total  SoPA_total  SoNA_total  ChQ_total  \\\n",
       "STATE_behaviors_wc   -0.055982   -0.062566   -0.023338   0.116217   \n",
       "\n",
       "                    WEEKLY_self_assessment_score  STATE_behaviors_wc  \n",
       "STATE_behaviors_wc                     -0.066576                 1.0  "
      ]
     },
     "execution_count": 14,
     "metadata": {},
     "output_type": "execute_result"
    }
   ],
   "source": [
    "df[interest_cols].corr().loc[['STATE_behaviors_wc']]"
   ]
  },
  {
   "cell_type": "code",
   "execution_count": 15,
   "id": "2f541c74",
   "metadata": {},
   "outputs": [
    {
     "data": {
      "text/plain": [
       "2607"
      ]
     },
     "execution_count": 15,
     "metadata": {},
     "output_type": "execute_result"
    }
   ],
   "source": [
    "len(df)"
   ]
  },
  {
   "cell_type": "markdown",
   "id": "89cf3f2a",
   "metadata": {},
   "source": [
    "### STATE_behavior_and_goals word count correlations"
   ]
  },
  {
   "cell_type": "code",
   "execution_count": 18,
   "id": "9cf55e5a",
   "metadata": {},
   "outputs": [
    {
     "name": "stdout",
     "output_type": "stream",
     "text": [
      "Behavior DF lengths:\n",
      " Q1=565\n",
      " Q2,3=1209\n",
      " Q4=613\n"
     ]
    }
   ],
   "source": [
    "df_behavior_q1 = df[df['STATE_behaviors_wc'] <= 99]\n",
    "df_behavior_q23 = df[(df['STATE_behaviors_wc'] > 99) & (df['STATE_behaviors_wc'] <= 215)]\n",
    "df_behavior_q4 = df[df['STATE_behaviors_wc'] > 215]\n",
    "\n",
    "len_bq1 = len(df_behavior_q1)\n",
    "len_bq23 = len(df_behavior_q23)\n",
    "len_bq4 = len(df_behavior_q4)\n",
    "\n",
    "print(\"Behavior DF lengths:\\n Q1={}\\n Q2,3={}\\n Q4={}\".format(len_bq1, len_bq23, len_bq4))"
   ]
  },
  {
   "cell_type": "code",
   "execution_count": 19,
   "id": "b0e07123",
   "metadata": {},
   "outputs": [
    {
     "data": {
      "text/html": [
       "<div>\n",
       "<style scoped>\n",
       "    .dataframe tbody tr th:only-of-type {\n",
       "        vertical-align: middle;\n",
       "    }\n",
       "\n",
       "    .dataframe tbody tr th {\n",
       "        vertical-align: top;\n",
       "    }\n",
       "\n",
       "    .dataframe thead th {\n",
       "        text-align: right;\n",
       "    }\n",
       "</style>\n",
       "<table border=\"1\" class=\"dataframe\">\n",
       "  <thead>\n",
       "    <tr style=\"text-align: right;\">\n",
       "      <th></th>\n",
       "      <th>BSMAS_total</th>\n",
       "      <th>PSS_total</th>\n",
       "      <th>ADTS_ANX_total</th>\n",
       "      <th>ADTS_P_total</th>\n",
       "      <th>ADTS_N_total</th>\n",
       "      <th>RSES_total</th>\n",
       "      <th>SWLS_total</th>\n",
       "      <th>PSOC_total</th>\n",
       "      <th>LONE_total</th>\n",
       "      <th>SoPA_total</th>\n",
       "      <th>SoNA_total</th>\n",
       "      <th>ChQ_total</th>\n",
       "      <th>WEEKLY_self_assessment_score</th>\n",
       "      <th>STATE_behaviors_wc</th>\n",
       "    </tr>\n",
       "  </thead>\n",
       "  <tbody>\n",
       "    <tr>\n",
       "      <th>STATE_behaviors_wc</th>\n",
       "      <td>-0.058835</td>\n",
       "      <td>-0.197369</td>\n",
       "      <td>-0.137454</td>\n",
       "      <td>-0.089232</td>\n",
       "      <td>-0.133525</td>\n",
       "      <td>0.116287</td>\n",
       "      <td>0.205852</td>\n",
       "      <td>0.27356</td>\n",
       "      <td>-0.173564</td>\n",
       "      <td>0.077599</td>\n",
       "      <td>-0.131428</td>\n",
       "      <td>0.291355</td>\n",
       "      <td>-0.020503</td>\n",
       "      <td>1.0</td>\n",
       "    </tr>\n",
       "  </tbody>\n",
       "</table>\n",
       "</div>"
      ],
      "text/plain": [
       "                    BSMAS_total  PSS_total  ADTS_ANX_total  ADTS_P_total  \\\n",
       "STATE_behaviors_wc    -0.058835  -0.197369       -0.137454     -0.089232   \n",
       "\n",
       "                    ADTS_N_total  RSES_total  SWLS_total  PSOC_total  \\\n",
       "STATE_behaviors_wc     -0.133525    0.116287    0.205852     0.27356   \n",
       "\n",
       "                    LONE_total  SoPA_total  SoNA_total  ChQ_total  \\\n",
       "STATE_behaviors_wc   -0.173564    0.077599   -0.131428   0.291355   \n",
       "\n",
       "                    WEEKLY_self_assessment_score  STATE_behaviors_wc  \n",
       "STATE_behaviors_wc                     -0.020503                 1.0  "
      ]
     },
     "execution_count": 19,
     "metadata": {},
     "output_type": "execute_result"
    }
   ],
   "source": [
    "df_behavior_q1[interest_cols].corr().loc[['STATE_behaviors_wc']]"
   ]
  },
  {
   "cell_type": "code",
   "execution_count": 20,
   "id": "6be12d15",
   "metadata": {},
   "outputs": [
    {
     "data": {
      "text/html": [
       "<div>\n",
       "<style scoped>\n",
       "    .dataframe tbody tr th:only-of-type {\n",
       "        vertical-align: middle;\n",
       "    }\n",
       "\n",
       "    .dataframe tbody tr th {\n",
       "        vertical-align: top;\n",
       "    }\n",
       "\n",
       "    .dataframe thead th {\n",
       "        text-align: right;\n",
       "    }\n",
       "</style>\n",
       "<table border=\"1\" class=\"dataframe\">\n",
       "  <thead>\n",
       "    <tr style=\"text-align: right;\">\n",
       "      <th></th>\n",
       "      <th>BSMAS_total</th>\n",
       "      <th>PSS_total</th>\n",
       "      <th>ADTS_ANX_total</th>\n",
       "      <th>ADTS_P_total</th>\n",
       "      <th>ADTS_N_total</th>\n",
       "      <th>RSES_total</th>\n",
       "      <th>SWLS_total</th>\n",
       "      <th>PSOC_total</th>\n",
       "      <th>LONE_total</th>\n",
       "      <th>SoPA_total</th>\n",
       "      <th>SoNA_total</th>\n",
       "      <th>ChQ_total</th>\n",
       "      <th>WEEKLY_self_assessment_score</th>\n",
       "      <th>STATE_behaviors_wc</th>\n",
       "    </tr>\n",
       "  </thead>\n",
       "  <tbody>\n",
       "    <tr>\n",
       "      <th>STATE_behaviors_wc</th>\n",
       "      <td>0.059541</td>\n",
       "      <td>0.128945</td>\n",
       "      <td>-0.039338</td>\n",
       "      <td>0.036574</td>\n",
       "      <td>-0.067672</td>\n",
       "      <td>0.080333</td>\n",
       "      <td>0.062617</td>\n",
       "      <td>-0.07996</td>\n",
       "      <td>0.070174</td>\n",
       "      <td>0.172516</td>\n",
       "      <td>-0.143768</td>\n",
       "      <td>-0.081719</td>\n",
       "      <td>-0.014787</td>\n",
       "      <td>1.0</td>\n",
       "    </tr>\n",
       "  </tbody>\n",
       "</table>\n",
       "</div>"
      ],
      "text/plain": [
       "                    BSMAS_total  PSS_total  ADTS_ANX_total  ADTS_P_total  \\\n",
       "STATE_behaviors_wc     0.059541   0.128945       -0.039338      0.036574   \n",
       "\n",
       "                    ADTS_N_total  RSES_total  SWLS_total  PSOC_total  \\\n",
       "STATE_behaviors_wc     -0.067672    0.080333    0.062617    -0.07996   \n",
       "\n",
       "                    LONE_total  SoPA_total  SoNA_total  ChQ_total  \\\n",
       "STATE_behaviors_wc    0.070174    0.172516   -0.143768  -0.081719   \n",
       "\n",
       "                    WEEKLY_self_assessment_score  STATE_behaviors_wc  \n",
       "STATE_behaviors_wc                     -0.014787                 1.0  "
      ]
     },
     "execution_count": 20,
     "metadata": {},
     "output_type": "execute_result"
    }
   ],
   "source": [
    "df_behavior_q23[interest_cols].corr().loc[['STATE_behaviors_wc']]"
   ]
  },
  {
   "cell_type": "code",
   "execution_count": 21,
   "id": "ba64b839",
   "metadata": {},
   "outputs": [
    {
     "data": {
      "text/html": [
       "<div>\n",
       "<style scoped>\n",
       "    .dataframe tbody tr th:only-of-type {\n",
       "        vertical-align: middle;\n",
       "    }\n",
       "\n",
       "    .dataframe tbody tr th {\n",
       "        vertical-align: top;\n",
       "    }\n",
       "\n",
       "    .dataframe thead th {\n",
       "        text-align: right;\n",
       "    }\n",
       "</style>\n",
       "<table border=\"1\" class=\"dataframe\">\n",
       "  <thead>\n",
       "    <tr style=\"text-align: right;\">\n",
       "      <th></th>\n",
       "      <th>BSMAS_total</th>\n",
       "      <th>PSS_total</th>\n",
       "      <th>ADTS_ANX_total</th>\n",
       "      <th>ADTS_P_total</th>\n",
       "      <th>ADTS_N_total</th>\n",
       "      <th>RSES_total</th>\n",
       "      <th>SWLS_total</th>\n",
       "      <th>PSOC_total</th>\n",
       "      <th>LONE_total</th>\n",
       "      <th>SoPA_total</th>\n",
       "      <th>SoNA_total</th>\n",
       "      <th>ChQ_total</th>\n",
       "      <th>WEEKLY_self_assessment_score</th>\n",
       "      <th>STATE_behaviors_wc</th>\n",
       "    </tr>\n",
       "  </thead>\n",
       "  <tbody>\n",
       "    <tr>\n",
       "      <th>STATE_behaviors_wc</th>\n",
       "      <td>-0.078012</td>\n",
       "      <td>-0.075395</td>\n",
       "      <td>0.032608</td>\n",
       "      <td>0.174637</td>\n",
       "      <td>-0.056628</td>\n",
       "      <td>-0.033016</td>\n",
       "      <td>0.13439</td>\n",
       "      <td>0.09678</td>\n",
       "      <td>-0.126081</td>\n",
       "      <td>-0.411839</td>\n",
       "      <td>0.801054</td>\n",
       "      <td>-0.750165</td>\n",
       "      <td>-0.110762</td>\n",
       "      <td>1.0</td>\n",
       "    </tr>\n",
       "  </tbody>\n",
       "</table>\n",
       "</div>"
      ],
      "text/plain": [
       "                    BSMAS_total  PSS_total  ADTS_ANX_total  ADTS_P_total  \\\n",
       "STATE_behaviors_wc    -0.078012  -0.075395        0.032608      0.174637   \n",
       "\n",
       "                    ADTS_N_total  RSES_total  SWLS_total  PSOC_total  \\\n",
       "STATE_behaviors_wc     -0.056628   -0.033016     0.13439     0.09678   \n",
       "\n",
       "                    LONE_total  SoPA_total  SoNA_total  ChQ_total  \\\n",
       "STATE_behaviors_wc   -0.126081   -0.411839    0.801054  -0.750165   \n",
       "\n",
       "                    WEEKLY_self_assessment_score  STATE_behaviors_wc  \n",
       "STATE_behaviors_wc                     -0.110762                 1.0  "
      ]
     },
     "execution_count": 21,
     "metadata": {},
     "output_type": "execute_result"
    }
   ],
   "source": [
    "df_behavior_q4[interest_cols].corr().loc[['STATE_behaviors_wc']]"
   ]
  },
  {
   "cell_type": "markdown",
   "id": "689ee74c-bde8-460c-91c7-7037df9233e0",
   "metadata": {},
   "source": [
    "#### 10th Percentile "
   ]
  },
  {
   "cell_type": "code",
   "execution_count": 22,
   "id": "57a776c6-4967-4d1f-bbe6-df993c717fb1",
   "metadata": {},
   "outputs": [
    {
     "data": {
      "text/plain": [
       "69.0"
      ]
     },
     "execution_count": 22,
     "metadata": {},
     "output_type": "execute_result"
    }
   ],
   "source": [
    "df['STATE_behaviors_wc'].quantile(.1)"
   ]
  },
  {
   "cell_type": "code",
   "execution_count": 26,
   "id": "61fc7444-dada-4e2f-a717-e15e862bf3da",
   "metadata": {},
   "outputs": [
    {
     "data": {
      "text/html": [
       "<div>\n",
       "<style scoped>\n",
       "    .dataframe tbody tr th:only-of-type {\n",
       "        vertical-align: middle;\n",
       "    }\n",
       "\n",
       "    .dataframe tbody tr th {\n",
       "        vertical-align: top;\n",
       "    }\n",
       "\n",
       "    .dataframe thead th {\n",
       "        text-align: right;\n",
       "    }\n",
       "</style>\n",
       "<table border=\"1\" class=\"dataframe\">\n",
       "  <thead>\n",
       "    <tr style=\"text-align: right;\">\n",
       "      <th></th>\n",
       "      <th>BSMAS_total</th>\n",
       "      <th>PSS_total</th>\n",
       "      <th>ADTS_ANX_total</th>\n",
       "      <th>ADTS_P_total</th>\n",
       "      <th>ADTS_N_total</th>\n",
       "      <th>RSES_total</th>\n",
       "      <th>SWLS_total</th>\n",
       "      <th>PSOC_total</th>\n",
       "      <th>LONE_total</th>\n",
       "      <th>SoPA_total</th>\n",
       "      <th>SoNA_total</th>\n",
       "      <th>ChQ_total</th>\n",
       "      <th>WEEKLY_self_assessment_score</th>\n",
       "      <th>STATE_behaviors_wc</th>\n",
       "    </tr>\n",
       "  </thead>\n",
       "  <tbody>\n",
       "    <tr>\n",
       "      <th>STATE_behaviors_wc</th>\n",
       "      <td>0.140044</td>\n",
       "      <td>-0.286313</td>\n",
       "      <td>0.312927</td>\n",
       "      <td>0.343953</td>\n",
       "      <td>-0.072255</td>\n",
       "      <td>0.16551</td>\n",
       "      <td>0.276383</td>\n",
       "      <td>0.396965</td>\n",
       "      <td>-0.101408</td>\n",
       "      <td>0.020537</td>\n",
       "      <td>-0.120907</td>\n",
       "      <td>0.12239</td>\n",
       "      <td>-0.238923</td>\n",
       "      <td>1.0</td>\n",
       "    </tr>\n",
       "  </tbody>\n",
       "</table>\n",
       "</div>"
      ],
      "text/plain": [
       "                    BSMAS_total  PSS_total  ADTS_ANX_total  ADTS_P_total  \\\n",
       "STATE_behaviors_wc     0.140044  -0.286313        0.312927      0.343953   \n",
       "\n",
       "                    ADTS_N_total  RSES_total  SWLS_total  PSOC_total  \\\n",
       "STATE_behaviors_wc     -0.072255     0.16551    0.276383    0.396965   \n",
       "\n",
       "                    LONE_total  SoPA_total  SoNA_total  ChQ_total  \\\n",
       "STATE_behaviors_wc   -0.101408    0.020537   -0.120907    0.12239   \n",
       "\n",
       "                    WEEKLY_self_assessment_score  STATE_behaviors_wc  \n",
       "STATE_behaviors_wc                     -0.238923                 1.0  "
      ]
     },
     "execution_count": 26,
     "metadata": {},
     "output_type": "execute_result"
    }
   ],
   "source": [
    "df[df['STATE_behaviors_wc'] <= 69][interest_cols].corr().loc[['STATE_behaviors_wc']]"
   ]
  },
  {
   "cell_type": "markdown",
   "id": "88168e49-3158-41ff-9420-00957160e4d8",
   "metadata": {},
   "source": [
    "#### 90th Percentile"
   ]
  },
  {
   "cell_type": "code",
   "execution_count": 24,
   "id": "ff4c6017-09e9-41bb-8a6f-7e9b552da212",
   "metadata": {},
   "outputs": [
    {
     "data": {
      "text/plain": [
       "324.0"
      ]
     },
     "execution_count": 24,
     "metadata": {},
     "output_type": "execute_result"
    }
   ],
   "source": [
    "df['STATE_behaviors_wc'].quantile(.9)"
   ]
  },
  {
   "cell_type": "code",
   "execution_count": 27,
   "id": "128f7f48-abd4-492a-8888-13833aec6fc0",
   "metadata": {},
   "outputs": [
    {
     "data": {
      "text/html": [
       "<div>\n",
       "<style scoped>\n",
       "    .dataframe tbody tr th:only-of-type {\n",
       "        vertical-align: middle;\n",
       "    }\n",
       "\n",
       "    .dataframe tbody tr th {\n",
       "        vertical-align: top;\n",
       "    }\n",
       "\n",
       "    .dataframe thead th {\n",
       "        text-align: right;\n",
       "    }\n",
       "</style>\n",
       "<table border=\"1\" class=\"dataframe\">\n",
       "  <thead>\n",
       "    <tr style=\"text-align: right;\">\n",
       "      <th></th>\n",
       "      <th>BSMAS_total</th>\n",
       "      <th>PSS_total</th>\n",
       "      <th>ADTS_ANX_total</th>\n",
       "      <th>ADTS_P_total</th>\n",
       "      <th>ADTS_N_total</th>\n",
       "      <th>RSES_total</th>\n",
       "      <th>SWLS_total</th>\n",
       "      <th>PSOC_total</th>\n",
       "      <th>LONE_total</th>\n",
       "      <th>SoPA_total</th>\n",
       "      <th>SoNA_total</th>\n",
       "      <th>ChQ_total</th>\n",
       "      <th>WEEKLY_self_assessment_score</th>\n",
       "      <th>STATE_behaviors_wc</th>\n",
       "    </tr>\n",
       "  </thead>\n",
       "  <tbody>\n",
       "    <tr>\n",
       "      <th>STATE_behaviors_wc</th>\n",
       "      <td>-0.087133</td>\n",
       "      <td>-0.065138</td>\n",
       "      <td>0.024018</td>\n",
       "      <td>0.16185</td>\n",
       "      <td>-0.184953</td>\n",
       "      <td>-0.097882</td>\n",
       "      <td>-0.036487</td>\n",
       "      <td>0.150328</td>\n",
       "      <td>-0.232271</td>\n",
       "      <td>-0.814659</td>\n",
       "      <td>0.980735</td>\n",
       "      <td>0.903999</td>\n",
       "      <td>-0.231636</td>\n",
       "      <td>1.0</td>\n",
       "    </tr>\n",
       "  </tbody>\n",
       "</table>\n",
       "</div>"
      ],
      "text/plain": [
       "                    BSMAS_total  PSS_total  ADTS_ANX_total  ADTS_P_total  \\\n",
       "STATE_behaviors_wc    -0.087133  -0.065138        0.024018       0.16185   \n",
       "\n",
       "                    ADTS_N_total  RSES_total  SWLS_total  PSOC_total  \\\n",
       "STATE_behaviors_wc     -0.184953   -0.097882   -0.036487    0.150328   \n",
       "\n",
       "                    LONE_total  SoPA_total  SoNA_total  ChQ_total  \\\n",
       "STATE_behaviors_wc   -0.232271   -0.814659    0.980735   0.903999   \n",
       "\n",
       "                    WEEKLY_self_assessment_score  STATE_behaviors_wc  \n",
       "STATE_behaviors_wc                     -0.231636                 1.0  "
      ]
     },
     "execution_count": 27,
     "metadata": {},
     "output_type": "execute_result"
    }
   ],
   "source": [
    "df[df['STATE_behaviors_wc'] > 324][interest_cols].corr().loc[['STATE_behaviors_wc']]"
   ]
  },
  {
   "cell_type": "markdown",
   "id": "29ec9557-49e6-4a62-8a34-a895349910df",
   "metadata": {},
   "source": [
    "### Observations\n",
    "- There are some interesting correlational differences bewtween those participants who wrote the most in their SM behaviors and those who wrote the least\n",
    "- Correlations of interest between word count:\n",
    "    - BSMAS, PSS, SWLS, PSOC, **SoPA & SoNA**, ChQ "
   ]
  },
  {
   "cell_type": "code",
   "execution_count": null,
   "id": "57874c06-ead6-43d9-9d9d-19be6aaf1b44",
   "metadata": {},
   "outputs": [],
   "source": []
  }
 ],
 "metadata": {
  "kernelspec": {
   "display_name": "Python 3 (ipykernel)",
   "language": "python",
   "name": "python3"
  },
  "language_info": {
   "codemirror_mode": {
    "name": "ipython",
    "version": 3
   },
   "file_extension": ".py",
   "mimetype": "text/x-python",
   "name": "python",
   "nbconvert_exporter": "python",
   "pygments_lexer": "ipython3",
   "version": "3.9.13"
  }
 },
 "nbformat": 4,
 "nbformat_minor": 5
}

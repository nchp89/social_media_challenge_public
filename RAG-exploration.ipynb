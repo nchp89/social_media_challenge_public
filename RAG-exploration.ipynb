{
 "cells": [
  {
   "cell_type": "markdown",
   "id": "ea7872f4-20c2-4832-85f8-e0d6943edb49",
   "metadata": {},
   "source": [
    "# Exploration of RAG Application for PRISM\n",
    "### Potential for PRISM Automated Feedback on Social Media Challenge Goals\n",
    "\n",
    "This notebook is a proof of concept to see the potential use of a RAG-based application for users of PRISM\n",
    "1. Base: Start with base query to ChatGPT to observe its output\n",
    "2. Prompt: Add context prompt for ChatGPT to have more instructions in its output generation\n",
    "3. RAG: Expand approach to include additional content using vector similarity "
   ]
  },
  {
   "cell_type": "code",
   "execution_count": 1,
   "id": "a5733b48-7577-4db3-a85e-858a1fc7da52",
   "metadata": {},
   "outputs": [],
   "source": [
    "from openai import OpenAI\n",
    "import pandas as pd\n",
    "import numpy as np\n",
    "\n",
    "client = OpenAI()"
   ]
  },
  {
   "cell_type": "code",
   "execution_count": 2,
   "id": "8ee57f6e-541e-4b95-b916-403250ac4ddb",
   "metadata": {},
   "outputs": [
    {
     "name": "stdout",
     "output_type": "stream",
     "text": [
      "How would you like to see your behaviors change? Be specific when listing your goals and intentions. For example \"I would like to use Instagram less\" does not count - RATHER say something like - \"I would like use Instagram for 20 mins per day or less and I will set a limit on my phone to achieve this goal.\" AND \"When I am on Instagram I will only watch my close friends stories, and not watch any celebrities, influencers, or people otherwise unknown to me.\" Describe AT LEAST 3 concrete goals and intentions.\n"
     ]
    }
   ],
   "source": [
    "# original goal question\n",
    "goal_question = 'How would you like to see your behaviors change? Be specific when listing your goals and intentions. For example \"I would like to use Instagram less\" does not count - RATHER say something like - \"I would like use Instagram for 20 mins per day or less and I will set a limit on my phone to achieve this goal.\" AND \"When I am on Instagram I will only watch my close friends stories, and not watch any celebrities, influencers, or people otherwise unknown to me.\" Describe AT LEAST 3 concrete goals and intentions.'\n",
    "print(goal_question)"
   ]
  },
  {
   "cell_type": "markdown",
   "id": "ee176489-a32d-4b28-b133-0d214378ade6",
   "metadata": {},
   "source": [
    "## 1. Base LLM query"
   ]
  },
  {
   "cell_type": "code",
   "execution_count": 3,
   "id": "6ce7ca48-621b-4117-8277-2893a0602d7f",
   "metadata": {},
   "outputs": [],
   "source": [
    "query = \"My first goal is to delete reddit off my phone. My second goal is to limit my total phone screen time to 2 hours a day. My last goal is to be more intentional on social media.\""
   ]
  },
  {
   "cell_type": "code",
   "execution_count": 4,
   "id": "de61e7d8-1442-464e-9e7d-0e71087a86ff",
   "metadata": {},
   "outputs": [
    {
     "data": {
      "text/plain": [
       "ChatCompletion(id='chatcmpl-AGse0YxI9hxXyrAmu89qboIl2SBl6', choices=[Choice(finish_reason='stop', index=0, logprobs=None, message=ChatCompletionMessage(content=\"These are great goals! To achieve your first goal of deleting Reddit off your phone, you can start by uninstalling the app and finding alternative ways to fill that time. For your second goal of limiting phone screen time to 2 hours a day, you can utilize screen time tracking apps and set daily limits for yourself. Lastly, to be more intentional on social media, you can start by unfollowing accounts that don't bring you value or joy, and setting boundaries for when and how often you use social media. Good luck on achieving your goals!\", role='assistant', function_call=None, tool_calls=None, refusal=None))], created=1728586664, model='gpt-3.5-turbo-0125', object='chat.completion', service_tier=None, system_fingerprint=None, usage=CompletionUsage(completion_tokens=111, prompt_tokens=48, total_tokens=159, prompt_tokens_details={'cached_tokens': 0}, completion_tokens_details={'text_tokens': 0, 'reasoning_tokens': 0, 'audio_tokens': 0}))"
      ]
     },
     "execution_count": 4,
     "metadata": {},
     "output_type": "execute_result"
    }
   ],
   "source": [
    "response_base = client.chat.completions.create(\n",
    "    model = \"gpt-3.5-turbo\",\n",
    "    messages = [{\"role\":\"user\", \"content\":query}]\n",
    ")\n",
    "response_base"
   ]
  },
  {
   "cell_type": "markdown",
   "id": "6928c245-985f-4481-98c5-62368f336618",
   "metadata": {},
   "source": [
    "## 2. Add extra prompt instructions"
   ]
  },
  {
   "cell_type": "code",
   "execution_count": 6,
   "id": "157001ca-9b2a-45ed-95a2-d7c34a5964c2",
   "metadata": {},
   "outputs": [
    {
     "data": {
      "text/plain": [
       "ChatCompletion(id='chatcmpl-AGseFt3GZYo2sf2hsv8Q7ot1ZIsBD', choices=[Choice(finish_reason='stop', index=0, logprobs=None, message=ChatCompletionMessage(content=\"It's great to see that you have identified specific goals to improve your relationship with technology and social media. Deleting Reddit from your phone is a concrete step towards reducing your screen time and potential distractions. Limiting your total phone screen time to 2 hours a day is a measurable and achievable goal that can help you be more mindful of how you're spending your time. Being more intentional on social media is an excellent goal, but it may help to specify what being intentional means to you - such as engaging with posts that bring you joy or following accounts that align with your values. Setting clear boundaries and intentions will greatly benefit your overall well-being and productivity. Good luck with your goals, and remember to track your progress along the way!\", role='assistant', function_call=None, tool_calls=None, refusal=None))], created=1728586679, model='gpt-3.5-turbo-0125', object='chat.completion', service_tier=None, system_fingerprint=None, usage=CompletionUsage(completion_tokens=146, prompt_tokens=196, total_tokens=342, prompt_tokens_details={'cached_tokens': 0}, completion_tokens_details={'reasoning_tokens': 0}))"
      ]
     },
     "execution_count": 6,
     "metadata": {},
     "output_type": "execute_result"
    }
   ],
   "source": [
    "response_prompt = client.chat.completions.create(\n",
    "    model = \"gpt-3.5-turbo\",\n",
    "    messages = [{\"role\":\"system\", \"content\":f\"You are a friendly life coach helping a client improve their relationship with technology and social media. Your client is supposed to answer the following question: {goal_question}. Provide feedback on their answer.\"},\n",
    "                {\"role\":\"user\", \"content\":query}]\n",
    ")\n",
    "response_prompt"
   ]
  },
  {
   "cell_type": "markdown",
   "id": "72c9eb81-37ee-4973-aece-05ba93eee814",
   "metadata": {},
   "source": [
    "## 3. Expand to add RAG functionality"
   ]
  },
  {
   "cell_type": "code",
   "execution_count": 7,
   "id": "1e5ea60b-4b32-4e44-a8c3-6209ae5fa7cc",
   "metadata": {},
   "outputs": [],
   "source": [
    "# 1. get reference content for RAG application to use\n",
    "# 2. clean the content\n",
    "# 3. vectorize and store content\n",
    "# 4. when user submits query, vectorize query\n",
    "# 5. take dot product between vectorized query and each vectorized elt in content store\n",
    "# 6. take top n=5 elts with largest dot product\n",
    "# 7. retrieve raw text of those elts \n",
    "# 8. pass that text as context into LLM query\n",
    "# 9. tada! "
   ]
  },
  {
   "cell_type": "markdown",
   "id": "7a3873dd-5840-4cae-bd87-dbd28919b35c",
   "metadata": {},
   "source": [
    "### 1 & 2. Get and clean reference content"
   ]
  },
  {
   "cell_type": "code",
   "execution_count": 15,
   "id": "ece512e1-cd68-471c-8f0d-7f33886d236f",
   "metadata": {},
   "outputs": [],
   "source": [
    "feedback_df = pd.read_csv(\"SMC Goals Feedback - Cleaned.csv\")"
   ]
  },
  {
   "cell_type": "code",
   "execution_count": 16,
   "id": "715fd8d5-69f3-4011-a1e9-2f567c0c5bee",
   "metadata": {},
   "outputs": [
    {
     "data": {
      "text/html": [
       "<div>\n",
       "<style scoped>\n",
       "    .dataframe tbody tr th:only-of-type {\n",
       "        vertical-align: middle;\n",
       "    }\n",
       "\n",
       "    .dataframe tbody tr th {\n",
       "        vertical-align: top;\n",
       "    }\n",
       "\n",
       "    .dataframe thead th {\n",
       "        text-align: right;\n",
       "    }\n",
       "</style>\n",
       "<table border=\"1\" class=\"dataframe\">\n",
       "  <thead>\n",
       "    <tr style=\"text-align: right;\">\n",
       "      <th></th>\n",
       "      <th>Stated Goals</th>\n",
       "      <th>Annie's Feedback</th>\n",
       "    </tr>\n",
       "  </thead>\n",
       "  <tbody>\n",
       "    <tr>\n",
       "      <th>0</th>\n",
       "      <td>I would like to see my behaviors change by del...</td>\n",
       "      <td>This is a great start! Deleting your most prob...</td>\n",
       "    </tr>\n",
       "    <tr>\n",
       "      <th>1</th>\n",
       "      <td>- I will NOT click ignore on the time limit an...</td>\n",
       "      <td>Okay, if you want to NOT click the time limit,...</td>\n",
       "    </tr>\n",
       "    <tr>\n",
       "      <th>2</th>\n",
       "      <td>If and when i am on tick-tock i have a goal to...</td>\n",
       "      <td>These are a great place to start! Maybe spend ...</td>\n",
       "    </tr>\n",
       "    <tr>\n",
       "      <th>3</th>\n",
       "      <td>- When I am on Instagram I will only look at m...</td>\n",
       "      <td>This is a great start! Generally people who se...</td>\n",
       "    </tr>\n",
       "    <tr>\n",
       "      <th>4</th>\n",
       "      <td>I would like to limit myself to one YouTube v...</td>\n",
       "      <td>How long? Toward what goal? How will you decid...</td>\n",
       "    </tr>\n",
       "    <tr>\n",
       "      <th>...</th>\n",
       "      <td>...</td>\n",
       "      <td>...</td>\n",
       "    </tr>\n",
       "    <tr>\n",
       "      <th>66</th>\n",
       "      <td>I want to consume less mindless content on Tik...</td>\n",
       "      <td>This is a great goal! How wil you make sure yo...</td>\n",
       "    </tr>\n",
       "    <tr>\n",
       "      <th>67</th>\n",
       "      <td>- 1 hour on TikTok and Instagram Reels a day</td>\n",
       "      <td>Admirable goal! How will you know you were on ...</td>\n",
       "    </tr>\n",
       "    <tr>\n",
       "      <th>68</th>\n",
       "      <td>consume content that is more positive</td>\n",
       "      <td>Is there any way you could curate your feed to...</td>\n",
       "    </tr>\n",
       "    <tr>\n",
       "      <th>69</th>\n",
       "      <td>I will connect with my family through calling ...</td>\n",
       "      <td>Awesome goal! Make sure and set times when you...</td>\n",
       "    </tr>\n",
       "    <tr>\n",
       "      <th>70</th>\n",
       "      <td>I will put screentime limits on my apps</td>\n",
       "      <td>Most people who set time limits don't stick to...</td>\n",
       "    </tr>\n",
       "  </tbody>\n",
       "</table>\n",
       "<p>71 rows × 2 columns</p>\n",
       "</div>"
      ],
      "text/plain": [
       "                                         Stated Goals  \\\n",
       "0   I would like to see my behaviors change by del...   \n",
       "1   - I will NOT click ignore on the time limit an...   \n",
       "2   If and when i am on tick-tock i have a goal to...   \n",
       "3   - When I am on Instagram I will only look at m...   \n",
       "4    I would like to limit myself to one YouTube v...   \n",
       "..                                                ...   \n",
       "66  I want to consume less mindless content on Tik...   \n",
       "67       - 1 hour on TikTok and Instagram Reels a day   \n",
       "68              consume content that is more positive   \n",
       "69  I will connect with my family through calling ...   \n",
       "70            I will put screentime limits on my apps   \n",
       "\n",
       "                                     Annie's Feedback  \n",
       "0   This is a great start! Deleting your most prob...  \n",
       "1   Okay, if you want to NOT click the time limit,...  \n",
       "2   These are a great place to start! Maybe spend ...  \n",
       "3   This is a great start! Generally people who se...  \n",
       "4   How long? Toward what goal? How will you decid...  \n",
       "..                                                ...  \n",
       "66  This is a great goal! How wil you make sure yo...  \n",
       "67  Admirable goal! How will you know you were on ...  \n",
       "68  Is there any way you could curate your feed to...  \n",
       "69  Awesome goal! Make sure and set times when you...  \n",
       "70  Most people who set time limits don't stick to...  \n",
       "\n",
       "[71 rows x 2 columns]"
      ]
     },
     "execution_count": 16,
     "metadata": {},
     "output_type": "execute_result"
    }
   ],
   "source": [
    "feedback_df"
   ]
  },
  {
   "cell_type": "code",
   "execution_count": 17,
   "id": "745f0dfe-c0ff-46c4-bb5a-d1f553c578dd",
   "metadata": {},
   "outputs": [
    {
     "name": "stderr",
     "output_type": "stream",
     "text": [
      "<>:5: SyntaxWarning: invalid escape sequence '\\s'\n",
      "<>:5: SyntaxWarning: invalid escape sequence '\\s'\n",
      "/var/folders/m8/3_46d0kx3550tv6p25r135jm0000gn/T/ipykernel_15741/2636967668.py:5: SyntaxWarning: invalid escape sequence '\\s'\n",
      "  goal = re.sub('\\s+', ' ', goal) #remove duplicate spaces\n"
     ]
    }
   ],
   "source": [
    "import re\n",
    "\n",
    "def clean_stated_goals(goal):\n",
    "    goal = re.sub('[^0-9a-zA-Z]+', ' ', goal) #remove non alphanumeric\n",
    "    goal = re.sub('\\s+', ' ', goal) #remove duplicate spaces\n",
    "    return goal\n",
    "    "
   ]
  },
  {
   "cell_type": "code",
   "execution_count": 18,
   "id": "8935b57b-b214-4ad5-b9aa-023b848d04ad",
   "metadata": {},
   "outputs": [
    {
     "data": {
      "text/html": [
       "<div>\n",
       "<style scoped>\n",
       "    .dataframe tbody tr th:only-of-type {\n",
       "        vertical-align: middle;\n",
       "    }\n",
       "\n",
       "    .dataframe tbody tr th {\n",
       "        vertical-align: top;\n",
       "    }\n",
       "\n",
       "    .dataframe thead th {\n",
       "        text-align: right;\n",
       "    }\n",
       "</style>\n",
       "<table border=\"1\" class=\"dataframe\">\n",
       "  <thead>\n",
       "    <tr style=\"text-align: right;\">\n",
       "      <th></th>\n",
       "      <th>Stated Goals</th>\n",
       "      <th>Annie's Feedback</th>\n",
       "    </tr>\n",
       "  </thead>\n",
       "  <tbody>\n",
       "    <tr>\n",
       "      <th>0</th>\n",
       "      <td>I would like to see my behaviors change by del...</td>\n",
       "      <td>This is a great start! Deleting your most prob...</td>\n",
       "    </tr>\n",
       "    <tr>\n",
       "      <th>1</th>\n",
       "      <td>I will NOT click ignore on the time limit any...</td>\n",
       "      <td>Okay, if you want to NOT click the time limit,...</td>\n",
       "    </tr>\n",
       "    <tr>\n",
       "      <th>2</th>\n",
       "      <td>If and when i am on tick tock i have a goal to...</td>\n",
       "      <td>These are a great place to start! Maybe spend ...</td>\n",
       "    </tr>\n",
       "    <tr>\n",
       "      <th>3</th>\n",
       "      <td>When I am on Instagram I will only look at my...</td>\n",
       "      <td>This is a great start! Generally people who se...</td>\n",
       "    </tr>\n",
       "    <tr>\n",
       "      <th>4</th>\n",
       "      <td>I would like to limit myself to one YouTube v...</td>\n",
       "      <td>How long? Toward what goal? How will you decid...</td>\n",
       "    </tr>\n",
       "    <tr>\n",
       "      <th>...</th>\n",
       "      <td>...</td>\n",
       "      <td>...</td>\n",
       "    </tr>\n",
       "    <tr>\n",
       "      <th>66</th>\n",
       "      <td>I want to consume less mindless content on Tik...</td>\n",
       "      <td>This is a great goal! How wil you make sure yo...</td>\n",
       "    </tr>\n",
       "    <tr>\n",
       "      <th>67</th>\n",
       "      <td>1 hour on TikTok and Instagram Reels a day</td>\n",
       "      <td>Admirable goal! How will you know you were on ...</td>\n",
       "    </tr>\n",
       "    <tr>\n",
       "      <th>68</th>\n",
       "      <td>consume content that is more positive</td>\n",
       "      <td>Is there any way you could curate your feed to...</td>\n",
       "    </tr>\n",
       "    <tr>\n",
       "      <th>69</th>\n",
       "      <td>I will connect with my family through calling ...</td>\n",
       "      <td>Awesome goal! Make sure and set times when you...</td>\n",
       "    </tr>\n",
       "    <tr>\n",
       "      <th>70</th>\n",
       "      <td>I will put screentime limits on my apps</td>\n",
       "      <td>Most people who set time limits don't stick to...</td>\n",
       "    </tr>\n",
       "  </tbody>\n",
       "</table>\n",
       "<p>71 rows × 2 columns</p>\n",
       "</div>"
      ],
      "text/plain": [
       "                                         Stated Goals  \\\n",
       "0   I would like to see my behaviors change by del...   \n",
       "1    I will NOT click ignore on the time limit any...   \n",
       "2   If and when i am on tick tock i have a goal to...   \n",
       "3    When I am on Instagram I will only look at my...   \n",
       "4    I would like to limit myself to one YouTube v...   \n",
       "..                                                ...   \n",
       "66  I want to consume less mindless content on Tik...   \n",
       "67         1 hour on TikTok and Instagram Reels a day   \n",
       "68              consume content that is more positive   \n",
       "69  I will connect with my family through calling ...   \n",
       "70            I will put screentime limits on my apps   \n",
       "\n",
       "                                     Annie's Feedback  \n",
       "0   This is a great start! Deleting your most prob...  \n",
       "1   Okay, if you want to NOT click the time limit,...  \n",
       "2   These are a great place to start! Maybe spend ...  \n",
       "3   This is a great start! Generally people who se...  \n",
       "4   How long? Toward what goal? How will you decid...  \n",
       "..                                                ...  \n",
       "66  This is a great goal! How wil you make sure yo...  \n",
       "67  Admirable goal! How will you know you were on ...  \n",
       "68  Is there any way you could curate your feed to...  \n",
       "69  Awesome goal! Make sure and set times when you...  \n",
       "70  Most people who set time limits don't stick to...  \n",
       "\n",
       "[71 rows x 2 columns]"
      ]
     },
     "execution_count": 18,
     "metadata": {},
     "output_type": "execute_result"
    }
   ],
   "source": [
    "feedback_df['Stated Goals'] = feedback_df['Stated Goals'].apply(clean_stated_goals)\n",
    "feedback_df"
   ]
  },
  {
   "cell_type": "markdown",
   "id": "af28fcf2-7562-48f1-9aa7-a15abc09d75e",
   "metadata": {},
   "source": [
    "### 3. Vectorize and store content (get embeddings)"
   ]
  },
  {
   "cell_type": "code",
   "execution_count": 19,
   "id": "731cd808-ca89-4f3e-80ef-538f1ddf952e",
   "metadata": {},
   "outputs": [],
   "source": [
    "# get embeddings\n",
    "def get_embedding(text, model=\"text-embedding-3-small\"):\n",
    "    return client.embeddings.create(input=[text], model=model).data[0].embedding"
   ]
  },
  {
   "cell_type": "code",
   "execution_count": 20,
   "id": "42e6a9a4-cc28-481e-9fc0-8b272d939642",
   "metadata": {},
   "outputs": [],
   "source": [
    "# feedback_df['Stated Goals Embedding'] = feedback_df['Stated Goals'].apply(get_embedding)\n",
    "# feedback_df.to_csv(\"SMC Goals Feedback - Embeddings.csv\", index=False)\n",
    "# feedback_df.to_pickle(\"SMC Goals Feedback - Embeddings.pkl\")"
   ]
  },
  {
   "cell_type": "code",
   "execution_count": 21,
   "id": "76f5238c-bc83-4e58-adc4-bf8f59d37a3b",
   "metadata": {},
   "outputs": [],
   "source": [
    "feedback_df = pd.read_pickle(\"SMC Goals Feedback - Embeddings.pkl\")"
   ]
  },
  {
   "cell_type": "code",
   "execution_count": 22,
   "id": "d499a2f2-a1fc-45b1-ab30-4cf496e37aee",
   "metadata": {},
   "outputs": [
    {
     "data": {
      "text/html": [
       "<div>\n",
       "<style scoped>\n",
       "    .dataframe tbody tr th:only-of-type {\n",
       "        vertical-align: middle;\n",
       "    }\n",
       "\n",
       "    .dataframe tbody tr th {\n",
       "        vertical-align: top;\n",
       "    }\n",
       "\n",
       "    .dataframe thead th {\n",
       "        text-align: right;\n",
       "    }\n",
       "</style>\n",
       "<table border=\"1\" class=\"dataframe\">\n",
       "  <thead>\n",
       "    <tr style=\"text-align: right;\">\n",
       "      <th></th>\n",
       "      <th>Stated Goals</th>\n",
       "      <th>Annie's Feedback</th>\n",
       "      <th>Stated Goals Embedding</th>\n",
       "    </tr>\n",
       "  </thead>\n",
       "  <tbody>\n",
       "    <tr>\n",
       "      <th>0</th>\n",
       "      <td>I would like to see my behaviors change by del...</td>\n",
       "      <td>This is a great start! Deleting your most prob...</td>\n",
       "      <td>[0.013152338564395905, 0.0013790624216198921, ...</td>\n",
       "    </tr>\n",
       "    <tr>\n",
       "      <th>1</th>\n",
       "      <td>I will NOT click ignore on the time limit anym...</td>\n",
       "      <td>Okay, if you want to NOT click the time limit,...</td>\n",
       "      <td>[0.006847853772342205, 0.010144710540771484, -...</td>\n",
       "    </tr>\n",
       "    <tr>\n",
       "      <th>2</th>\n",
       "      <td>If and when i am on tick-tock i have a goal to...</td>\n",
       "      <td>These are a great place to start! Maybe spend ...</td>\n",
       "      <td>[0.013891640119254589, 0.009084099903702736, -...</td>\n",
       "    </tr>\n",
       "    <tr>\n",
       "      <th>3</th>\n",
       "      <td>When I am on Instagram I will only look at my ...</td>\n",
       "      <td>This is a great start! Generally people who se...</td>\n",
       "      <td>[0.04316026717424393, 0.02773171290755272, -0....</td>\n",
       "    </tr>\n",
       "    <tr>\n",
       "      <th>4</th>\n",
       "      <td>I would like to limit myself to one YouTube vi...</td>\n",
       "      <td>How long? Toward what goal? How will you decid...</td>\n",
       "      <td>[0.011394932866096497, -0.01680963858962059, -...</td>\n",
       "    </tr>\n",
       "    <tr>\n",
       "      <th>...</th>\n",
       "      <td>...</td>\n",
       "      <td>...</td>\n",
       "      <td>...</td>\n",
       "    </tr>\n",
       "    <tr>\n",
       "      <th>66</th>\n",
       "      <td>I want to consume less mindless content on Tik...</td>\n",
       "      <td>This is a great goal! How wil you make sure yo...</td>\n",
       "      <td>[0.02413846179842949, -0.01985219307243824, -0...</td>\n",
       "    </tr>\n",
       "    <tr>\n",
       "      <th>67</th>\n",
       "      <td>hour on TikTok and Instagram Reels a day</td>\n",
       "      <td>Admirable goal! How will you know you were on ...</td>\n",
       "      <td>[0.012546670623123646, 0.004898448474705219, -...</td>\n",
       "    </tr>\n",
       "    <tr>\n",
       "      <th>68</th>\n",
       "      <td>consume content that is more positive</td>\n",
       "      <td>Is there any way you could curate your feed to...</td>\n",
       "      <td>[0.030527938157320023, -0.016606703400611877, ...</td>\n",
       "    </tr>\n",
       "    <tr>\n",
       "      <th>69</th>\n",
       "      <td>I will connect with my family through calling ...</td>\n",
       "      <td>Awesome goal! Make sure and set times when you...</td>\n",
       "      <td>[0.00023016663908492774, -0.001089050550945103...</td>\n",
       "    </tr>\n",
       "    <tr>\n",
       "      <th>70</th>\n",
       "      <td>I will put screentime limits on my apps</td>\n",
       "      <td>Most people who set time limits don't stick to...</td>\n",
       "      <td>[0.010319557040929794, 0.02716086432337761, 0....</td>\n",
       "    </tr>\n",
       "  </tbody>\n",
       "</table>\n",
       "<p>71 rows × 3 columns</p>\n",
       "</div>"
      ],
      "text/plain": [
       "                                         Stated Goals  \\\n",
       "0   I would like to see my behaviors change by del...   \n",
       "1   I will NOT click ignore on the time limit anym...   \n",
       "2   If and when i am on tick-tock i have a goal to...   \n",
       "3   When I am on Instagram I will only look at my ...   \n",
       "4   I would like to limit myself to one YouTube vi...   \n",
       "..                                                ...   \n",
       "66  I want to consume less mindless content on Tik...   \n",
       "67           hour on TikTok and Instagram Reels a day   \n",
       "68              consume content that is more positive   \n",
       "69  I will connect with my family through calling ...   \n",
       "70            I will put screentime limits on my apps   \n",
       "\n",
       "                                     Annie's Feedback  \\\n",
       "0   This is a great start! Deleting your most prob...   \n",
       "1   Okay, if you want to NOT click the time limit,...   \n",
       "2   These are a great place to start! Maybe spend ...   \n",
       "3   This is a great start! Generally people who se...   \n",
       "4   How long? Toward what goal? How will you decid...   \n",
       "..                                                ...   \n",
       "66  This is a great goal! How wil you make sure yo...   \n",
       "67  Admirable goal! How will you know you were on ...   \n",
       "68  Is there any way you could curate your feed to...   \n",
       "69  Awesome goal! Make sure and set times when you...   \n",
       "70  Most people who set time limits don't stick to...   \n",
       "\n",
       "                               Stated Goals Embedding  \n",
       "0   [0.013152338564395905, 0.0013790624216198921, ...  \n",
       "1   [0.006847853772342205, 0.010144710540771484, -...  \n",
       "2   [0.013891640119254589, 0.009084099903702736, -...  \n",
       "3   [0.04316026717424393, 0.02773171290755272, -0....  \n",
       "4   [0.011394932866096497, -0.01680963858962059, -...  \n",
       "..                                                ...  \n",
       "66  [0.02413846179842949, -0.01985219307243824, -0...  \n",
       "67  [0.012546670623123646, 0.004898448474705219, -...  \n",
       "68  [0.030527938157320023, -0.016606703400611877, ...  \n",
       "69  [0.00023016663908492774, -0.001089050550945103...  \n",
       "70  [0.010319557040929794, 0.02716086432337761, 0....  \n",
       "\n",
       "[71 rows x 3 columns]"
      ]
     },
     "execution_count": 22,
     "metadata": {},
     "output_type": "execute_result"
    }
   ],
   "source": [
    "feedback_df"
   ]
  },
  {
   "cell_type": "markdown",
   "id": "3a7dfab3-0a11-4090-a884-156f0a2ae9f1",
   "metadata": {},
   "source": [
    "### 4. Vectorize user query (query embedding)"
   ]
  },
  {
   "cell_type": "code",
   "execution_count": 23,
   "id": "9117f1c5-436b-45f4-a02f-0401bdc9f5d0",
   "metadata": {},
   "outputs": [],
   "source": [
    "query_embedding = get_embedding(query)\n",
    "# query_embedding"
   ]
  },
  {
   "cell_type": "markdown",
   "id": "d0a1dc3a-6e7f-4b35-aa64-14f305407504",
   "metadata": {},
   "source": [
    "### 5. Take dot product between vectorized content and query embedding"
   ]
  },
  {
   "cell_type": "code",
   "execution_count": 24,
   "id": "8c96dd0e-14b4-486d-91cc-3c64b2f24e91",
   "metadata": {},
   "outputs": [],
   "source": [
    "# calculate dot product between stated goals embedding and my query\n",
    "feedback_df['Dot Product'] = feedback_df['Stated Goals Embedding'].apply(lambda x: np.dot(x, query_embedding))"
   ]
  },
  {
   "cell_type": "markdown",
   "id": "d83755ca-0aed-4e0f-b146-2dc80f86f264",
   "metadata": {},
   "source": [
    "### 6. Choose closest vectors as determined by dot product"
   ]
  },
  {
   "cell_type": "code",
   "execution_count": 25,
   "id": "b4dc4f79-5e95-49a4-ba74-fb5e573cf349",
   "metadata": {},
   "outputs": [
    {
     "data": {
      "text/html": [
       "<div>\n",
       "<style scoped>\n",
       "    .dataframe tbody tr th:only-of-type {\n",
       "        vertical-align: middle;\n",
       "    }\n",
       "\n",
       "    .dataframe tbody tr th {\n",
       "        vertical-align: top;\n",
       "    }\n",
       "\n",
       "    .dataframe thead th {\n",
       "        text-align: right;\n",
       "    }\n",
       "</style>\n",
       "<table border=\"1\" class=\"dataframe\">\n",
       "  <thead>\n",
       "    <tr style=\"text-align: right;\">\n",
       "      <th></th>\n",
       "      <th>Stated Goals</th>\n",
       "      <th>Annie's Feedback</th>\n",
       "      <th>Stated Goals Embedding</th>\n",
       "      <th>Dot Product</th>\n",
       "    </tr>\n",
       "  </thead>\n",
       "  <tbody>\n",
       "    <tr>\n",
       "      <th>30</th>\n",
       "      <td>Goals:. - I would like to use Instagram for 30...</td>\n",
       "      <td>How will you enforce these new time limits? If...</td>\n",
       "      <td>[-0.006893911864608526, 0.017961472272872925, ...</td>\n",
       "      <td>0.636281</td>\n",
       "    </tr>\n",
       "    <tr>\n",
       "      <th>23</th>\n",
       "      <td>I would like to cut my Instagram time to 30 mi...</td>\n",
       "      <td>This is a lot of change all at once. How much ...</td>\n",
       "      <td>[-0.006098544225096703, 0.005079406779259443, ...</td>\n",
       "      <td>0.622786</td>\n",
       "    </tr>\n",
       "    <tr>\n",
       "      <th>19</th>\n",
       "      <td>I would like for social media not to affect my...</td>\n",
       "      <td>This is an admirable goal, but how will you en...</td>\n",
       "      <td>[0.03488994017243385, -0.00036550185177475214,...</td>\n",
       "      <td>0.601755</td>\n",
       "    </tr>\n",
       "    <tr>\n",
       "      <th>0</th>\n",
       "      <td>I would like to see my behaviors change by del...</td>\n",
       "      <td>This is a great start! Deleting your most prob...</td>\n",
       "      <td>[0.013152338564395905, 0.0013790624216198921, ...</td>\n",
       "      <td>0.594602</td>\n",
       "    </tr>\n",
       "    <tr>\n",
       "      <th>61</th>\n",
       "      <td>I want to reduce random scrolling on Instagram...</td>\n",
       "      <td>People who consult their screen time as the on...</td>\n",
       "      <td>[-0.009930817410349846, 0.03150276094675064, -...</td>\n",
       "      <td>0.585196</td>\n",
       "    </tr>\n",
       "  </tbody>\n",
       "</table>\n",
       "</div>"
      ],
      "text/plain": [
       "                                         Stated Goals  \\\n",
       "30  Goals:. - I would like to use Instagram for 30...   \n",
       "23  I would like to cut my Instagram time to 30 mi...   \n",
       "19  I would like for social media not to affect my...   \n",
       "0   I would like to see my behaviors change by del...   \n",
       "61  I want to reduce random scrolling on Instagram...   \n",
       "\n",
       "                                     Annie's Feedback  \\\n",
       "30  How will you enforce these new time limits? If...   \n",
       "23  This is a lot of change all at once. How much ...   \n",
       "19  This is an admirable goal, but how will you en...   \n",
       "0   This is a great start! Deleting your most prob...   \n",
       "61  People who consult their screen time as the on...   \n",
       "\n",
       "                               Stated Goals Embedding  Dot Product  \n",
       "30  [-0.006893911864608526, 0.017961472272872925, ...     0.636281  \n",
       "23  [-0.006098544225096703, 0.005079406779259443, ...     0.622786  \n",
       "19  [0.03488994017243385, -0.00036550185177475214,...     0.601755  \n",
       "0   [0.013152338564395905, 0.0013790624216198921, ...     0.594602  \n",
       "61  [-0.009930817410349846, 0.03150276094675064, -...     0.585196  "
      ]
     },
     "execution_count": 25,
     "metadata": {},
     "output_type": "execute_result"
    }
   ],
   "source": [
    "# the larger the dot product the closer the vectors, aka the close the semantic content\n",
    "# so lets sort by dot product in descending order\n",
    "feedback_df = feedback_df.sort_values(by='Dot Product', ascending=False)\n",
    "feedback_df.head()"
   ]
  },
  {
   "cell_type": "code",
   "execution_count": 26,
   "id": "662709d5-f0a4-42e4-8965-17cda8cabca8",
   "metadata": {},
   "outputs": [],
   "source": [
    "# lets pull out Annie's Feedback for the top 3 results and pass that in as content for the LLM \n",
    "# to generate its answer from"
   ]
  },
  {
   "cell_type": "markdown",
   "id": "e14694be-dff1-4c94-805f-ae00f8a5ba28",
   "metadata": {},
   "source": [
    "### 7. Retrieve Annie's Feedback text of associated vectors "
   ]
  },
  {
   "cell_type": "code",
   "execution_count": 27,
   "id": "77f4f911-bf3e-4618-8f6a-2e43f83e1c7d",
   "metadata": {},
   "outputs": [
    {
     "data": {
      "text/plain": [
       "\"How will you enforce these new time limits? If we want to succeed we need to have a replacement behavior and/or a strong reward system set up! How much are you on Instagram, reddit, and YikYak currently? What do you want to do with the new time you'll have? Knowing what you DO want to be doing, rather than only what you DON'T want to be doing will set you up for success! Great job including your intentions! It sounds like your main intent is to improve your mood by not viewing as much negative / hateful content. I recommend checking out some loving kindness meditations online! Brain changes can happen with as little as 5 mins a day!\\nThis is a lot of change all at once. How much are you currently using instagram and snapchat? How will you enforce this new behaviors? When the time limit comes up, what will you do instead to ensure you don't just click ignore? If you want to completely stop using snapchat will you delete the app off your phone? Some people like to let their friends know when they are going to delete a social app so their friends don't think they're just not responding. The more we speak to others about how social technologies are impacting our mental health, the more the awareness grows, and the culture shifts! Will you change your bedtime routine or move your phone away from your bed to make sure you don't open twitter or watch youtube? When we set goals it's important to change our environment or routine to make sticking to the goal as easy as possible! You got this!! I hope you make some of the changes and see the benefits showing up in your life!\\nThis is an admirable goal, but how will you enforce this? How will you praise yourself if you achieve this goal? How much are you currently on your phone? Is cutting back to just one hour a huge change for you? If so, maybe think about starting with a smaller change and cutting back gradually. Or just spending the first week noticing which specific social media behaviors impact your self-worth more than others?\""
      ]
     },
     "execution_count": 27,
     "metadata": {},
     "output_type": "execute_result"
    }
   ],
   "source": [
    "top_3_annie_feedback = '\\n'.join(list(feedback_df.head(3)[\"Annie's Feedback\"].values))\n",
    "top_3_annie_feedback"
   ]
  },
  {
   "cell_type": "markdown",
   "id": "c14049d3-7f90-4fbb-9109-b028fa8120ea",
   "metadata": {},
   "source": [
    "### 8. Submit retrieved feedback as additional content for LLM to generate feedback"
   ]
  },
  {
   "cell_type": "code",
   "execution_count": 30,
   "id": "eea8c57f-dead-4a30-952a-cb1945e2a4bd",
   "metadata": {},
   "outputs": [
    {
     "data": {
      "text/plain": [
       "ChatCompletion(id='chatcmpl-AGsi8BOh11GxFTxlWWR5swgK3liq1', choices=[Choice(finish_reason='stop', index=0, logprobs=None, message=ChatCompletionMessage(content=\"It's great to see that you have specific goals in mind to improve your relationship with technology and social media. To achieve these goals effectively, consider the following:\\n\\n1. For your first goal of deleting Reddit off your phone, make sure to replace this habit with a different activity or hobby that is more fulfilling and beneficial to you. Maybe consider reading a book, going for a walk, or practicing a hobby you enjoy.\\n\\n2. Limiting your total phone screen time to 2 hours a day is a significant change, so it's important to have a plan in place to enforce this limit. You can set app timers or use screen time management features on your phone to track and control your usage. When the time limit is reached, make sure to actively engage in other activities instead of mindlessly scrolling on your phone.\\n\\n3. Being more intentional on social media is a commendable goal. Consider curating your social media feeds to follow accounts that inspire and uplift you. Set boundaries for yourself, such as only checking social media at specific times of the day or avoiding engaging with negative or unproductive content.\\n\\nBy implementing these strategies and staying consistent with your goals, you can create a healthier relationship with technology and social media. Remember to celebrate your progress and be kind to yourself throughout this journey. Keep up the great work!\", role='assistant', function_call=None, tool_calls=None, refusal=None))], created=1728586920, model='gpt-3.5-turbo-0125', object='chat.completion', service_tier=None, system_fingerprint=None, usage=CompletionUsage(completion_tokens=264, prompt_tokens=626, total_tokens=890, prompt_tokens_details={'cached_tokens': 0}, completion_tokens_details={'reasoning_tokens': 0}))"
      ]
     },
     "execution_count": 30,
     "metadata": {},
     "output_type": "execute_result"
    }
   ],
   "source": [
    "response_rag = client.chat.completions.create(\n",
    "    model = \"gpt-3.5-turbo\",\n",
    "    messages = [{\"role\":\"system\", \"content\":f\"You are a friendly life coach helping a client improve their relationship with technology and social media. Your client is supposed to answer the following question: {goal_question}. Provide feedback on their answer.\"},\n",
    "                {\"role\":\"user\", \"content\":query},\n",
    "                {\"role\":\"assistant\", \"content\": f\"Match the tone of your response to the following: {top_3_annie_feedback}\"}]\n",
    ")\n",
    "response_rag"
   ]
  },
  {
   "cell_type": "markdown",
   "id": "03de6d15-435f-4ef1-8f82-59798fe78cf9",
   "metadata": {},
   "source": [
    "# Comparing output"
   ]
  },
  {
   "cell_type": "code",
   "execution_count": 51,
   "id": "f4789043-dc54-4ce3-9ad6-063eeb5683ca",
   "metadata": {},
   "outputs": [],
   "source": [
    "def extract_output(chatgpt_response):\n",
    "    print(chatgpt_response.to_dict()['choices'][0]['message']['content'])"
   ]
  },
  {
   "cell_type": "code",
   "execution_count": 52,
   "id": "871f45a0-e837-4c63-9db4-3a8374ef03b0",
   "metadata": {},
   "outputs": [
    {
     "name": "stdout",
     "output_type": "stream",
     "text": [
      "These are great goals! To achieve your first goal of deleting Reddit off your phone, you can start by uninstalling the app and finding alternative ways to fill that time. For your second goal of limiting phone screen time to 2 hours a day, you can utilize screen time tracking apps and set daily limits for yourself. Lastly, to be more intentional on social media, you can start by unfollowing accounts that don't bring you value or joy, and setting boundaries for when and how often you use social media. Good luck on achieving your goals!\n"
     ]
    }
   ],
   "source": [
    "extract_output(response_base)"
   ]
  },
  {
   "cell_type": "code",
   "execution_count": 53,
   "id": "de272fa0-eefd-4ffd-90bf-0530557d4e84",
   "metadata": {},
   "outputs": [
    {
     "name": "stdout",
     "output_type": "stream",
     "text": [
      "It's great to see that you have identified specific goals to improve your relationship with technology and social media. Deleting Reddit from your phone is a concrete step towards reducing your screen time and potential distractions. Limiting your total phone screen time to 2 hours a day is a measurable and achievable goal that can help you be more mindful of how you're spending your time. Being more intentional on social media is an excellent goal, but it may help to specify what being intentional means to you - such as engaging with posts that bring you joy or following accounts that align with your values. Setting clear boundaries and intentions will greatly benefit your overall well-being and productivity. Good luck with your goals, and remember to track your progress along the way!\n"
     ]
    }
   ],
   "source": [
    "extract_output(response_prompt)"
   ]
  },
  {
   "cell_type": "code",
   "execution_count": 54,
   "id": "abb706e1-692b-4410-9209-9bda9448fdad",
   "metadata": {},
   "outputs": [
    {
     "name": "stdout",
     "output_type": "stream",
     "text": [
      "It's great to see that you have specific goals in mind to improve your relationship with technology and social media. To achieve these goals effectively, consider the following:\n",
      "\n",
      "1. For your first goal of deleting Reddit off your phone, make sure to replace this habit with a different activity or hobby that is more fulfilling and beneficial to you. Maybe consider reading a book, going for a walk, or practicing a hobby you enjoy.\n",
      "\n",
      "2. Limiting your total phone screen time to 2 hours a day is a significant change, so it's important to have a plan in place to enforce this limit. You can set app timers or use screen time management features on your phone to track and control your usage. When the time limit is reached, make sure to actively engage in other activities instead of mindlessly scrolling on your phone.\n",
      "\n",
      "3. Being more intentional on social media is a commendable goal. Consider curating your social media feeds to follow accounts that inspire and uplift you. Set boundaries for yourself, such as only checking social media at specific times of the day or avoiding engaging with negative or unproductive content.\n",
      "\n",
      "By implementing these strategies and staying consistent with your goals, you can create a healthier relationship with technology and social media. Remember to celebrate your progress and be kind to yourself throughout this journey. Keep up the great work!\n"
     ]
    }
   ],
   "source": [
    "extract_output(response_rag)"
   ]
  },
  {
   "cell_type": "markdown",
   "id": "ae68be71-9535-4022-81c7-b1fdb7cb857e",
   "metadata": {},
   "source": [
    "## Notes\n",
    "\n",
    "#### Base\n",
    "The base response thoroughly addresses the input, but it is simple feedback without much elaboration. However, I was impressed that it provided any feedback whatsoever given that I just gave it my goals without any context.\n",
    "\n",
    "#### Prompt\n",
    "When we provide ChatGPT with extra context about being a supportive life coach who gives feedback on goals its performance noticably improved. It correctly identifies that the final goal of \"being more intentional\" is not very specific and offers suggestions to make the goal more achievable. It even mentions the importance of aligning social media use with values. \n",
    "\n",
    "#### RAG\n",
    "The RAG approach far exceeds the base and prompt approaches. The response enumerates each goal and provides feedback in turn. It suggests replacing time spent on reddit with a different, more fulfilling activity. It suggests having a plan in place for what to do once a time limit is reached on your phone so you can actively engage with something else. Finally, it commends the user for desiring more intentional time spent on social media, but proceeds to clarify what that process might look like (similar to the prompt response). The final lines of the response really sound like Annie, referring to the PRISM process as a 'journey', reminding the user to be kind to themselves, to celebrate their victories, before signing off with a final line of encouragement: 'Keep up the great work!'\n",
    "\n",
    "\n",
    "### Final thoughts:\n",
    "I think this proves the effectiveness of the RAG approach. The feedback generated by ChatGPT was more specific, more elaborated, and more similar in tone to Annie than the base or prompt-only approaches. We should continue testing with more diverse goals and edge cases, but, in my opinion, we should proceed with the development of a fully usable, user-friendly application."
   ]
  },
  {
   "cell_type": "code",
   "execution_count": null,
   "id": "a783f8f8-84cf-4725-a317-c7fa1d380af5",
   "metadata": {},
   "outputs": [],
   "source": []
  }
 ],
 "metadata": {
  "kernelspec": {
   "display_name": "Python 3 (ipykernel)",
   "language": "python",
   "name": "python3"
  },
  "language_info": {
   "codemirror_mode": {
    "name": "ipython",
    "version": 3
   },
   "file_extension": ".py",
   "mimetype": "text/x-python",
   "name": "python",
   "nbconvert_exporter": "python",
   "pygments_lexer": "ipython3",
   "version": "3.12.4"
  }
 },
 "nbformat": 4,
 "nbformat_minor": 5
}
